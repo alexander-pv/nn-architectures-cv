{
 "cells": [
  {
   "cell_type": "markdown",
   "id": "a8aed33f",
   "metadata": {
    "pycharm": {
     "name": "#%% md\n"
    }
   },
   "source": [
    "### Xception \n",
    "\n",
    "### Xception: Deep Learning with Depthwise Separable Convolutions (Chollet F., 2016)\n",
    "\n",
    "*We present an interpretation of Inception modules in convolutional neural networks\n",
    "as being an intermediate step in __between regular convolution and the depthwise separable\n",
    "convolution operation__ (a depthwise convolution followed by a pointwise convolution)...*\n",
    "\n",
    "\n",
    "[Paper](https://arxiv.org/abs/1610.02357v2?source=post_page---------------------------)"
   ]
  },
  {
   "cell_type": "code",
   "execution_count": 1,
   "id": "8a5b0020",
   "metadata": {
    "pycharm": {
     "name": "#%%\n"
    }
   },
   "outputs": [],
   "source": [
    "import os\n",
    "import numpy as np\n",
    "import torch\n",
    "import torch.nn as nn\n",
    "from typing import Union, Tuple\n",
    "import pretrainedmodels\n",
    "\n",
    "assert torch.cuda.is_available() is True\n",
    "%load_ext watermark"
   ]
  },
  {
   "cell_type": "code",
   "execution_count": 2,
   "id": "a551b665",
   "metadata": {
    "pycharm": {
     "name": "#%%\n"
    }
   },
   "outputs": [
    {
     "name": "stdout",
     "output_type": "stream",
     "text": [
      "torch           : 1.10.2\n",
      "ignite          : 0.4.8\n",
      "numpy           : 1.22.1\n",
      "netron          : 5.7.8\n",
      "pretrainedmodels: 0.7.4\n",
      "\n"
     ]
    }
   ],
   "source": [
    "%watermark -p torch,ignite,numpy,netron,pretrainedmodels"
   ]
  },
  {
   "cell_type": "markdown",
   "id": "379eab2b",
   "metadata": {
    "pycharm": {
     "name": "#%% md\n"
    }
   },
   "source": [
    "#### Depthwise separable convolution\n",
    "\n",
    "(Laurent Sifre at Google Brain in 2013, reported in V. Vanhoucke. Learning visual representations at scale. ICLR, 2014, PhD thesis Rigid-motion scattering for image classification, 2014)"
   ]
  },
  {
   "cell_type": "markdown",
   "id": "2d5b7a3a",
   "metadata": {
    "pycharm": {
     "name": "#%% md\n"
    }
   },
   "source": [
    "The standard convolution extracts:\n",
    "* Spatial correlation across pixels within an image channel (spatial correlations)\n",
    "* Pixels correlation across channels (cross-channel correlations)\n",
    "\n",
    "This is actually what Inception block does! "
   ]
  },
  {
   "cell_type": "markdown",
   "id": "876ab385",
   "metadata": {
    "pycharm": {
     "name": "#%% md\n"
    }
   },
   "source": [
    "<img src=\"../assets/2_xception.png\" width=\"450\">"
   ]
  },
  {
   "cell_type": "markdown",
   "id": "5040acbc",
   "metadata": {
    "pycharm": {
     "name": "#%% md\n"
    }
   },
   "source": [
    "This simplified Inception block actually states that spatial and cross-channel correlations can be factorized.\n",
    "And the experiments showed it was true.\n",
    "\n",
    "Extreme case:"
   ]
  },
  {
   "cell_type": "markdown",
   "id": "d88ef65d",
   "metadata": {
    "pycharm": {
     "name": "#%% md\n"
    }
   },
   "source": [
    "<img src=\"../assets/3_xception.png\" width=\"450\">"
   ]
  },
  {
   "cell_type": "markdown",
   "id": "3a92199b",
   "metadata": {
    "pycharm": {
     "name": "#%% md\n"
    }
   },
   "source": [
    "The ideas is known as __depthwise separable convolution__. The only difference is the order of operations:"
   ]
  },
  {
   "cell_type": "markdown",
   "id": "d07a0771",
   "metadata": {
    "pycharm": {
     "name": "#%% md\n"
    }
   },
   "source": [
    "<img src=\"../assets/4_xception.jpeg\" width=\"490\">\n",
    "\n",
    "<img src=\"../assets/1_xception.png\" width=\"490\">"
   ]
  },
  {
   "cell_type": "markdown",
   "id": "774f20fd",
   "metadata": {
    "pycharm": {
     "name": "#%% md\n"
    }
   },
   "source": [
    "#### Depthwise separable convolution from computational perspective:\n",
    "\n",
    "Let $F_{K \\times K \\times C} $ is the filter or kernel with dims $K \\times K \\times C$, $H_{G \\times G \\times N}$ is the resulting feature map with dims $G \\times G \\times N$ produced by a convolution with $N$ filters $F_{K \\times K \\times C}$ over $W \\times H \\times C$ input.\n",
    "\n",
    "Then:\n",
    "\n",
    "1) for the standard convolution the number of multiplications per kernel is:\n",
    "\n",
    "$$Mults_{1} = K^2 \\times C \\times G^2$$\n",
    "\n",
    "For N kernels:\n",
    "\n",
    "$$Mults_{N} = K^2 \\times C \\times G^2 \\times N$$\n",
    "\n",
    "2) for DWS convolution:\n",
    "\n",
    "* depthwise part:\n",
    "\n",
    "$$DW Mults = C \\times K^2 \\times G^2$$\n",
    "\n",
    "* pointwise part:\n",
    "\n",
    "$$PC Mults_{N} = N \\times G^2 \\times C$$\n",
    "\n",
    "$$DWSC_{Total} = C \\times K^2 \\times G^2 + N \\times G^2 \\times C = C \\times G^2 [K^2 + N]$$\n",
    "\n",
    "\n",
    "\n",
    "3) The reduction ratio:\n",
    "\n",
    "$$r = \\frac{C \\times G^2 [K^2 + N]}{K^2 \\times C \\times G^2 \\times N} = \\frac{1}{N} + \\frac{1}{K^2}$$\n",
    "\n"
   ]
  },
  {
   "cell_type": "code",
   "execution_count": 3,
   "id": "3769b4c3",
   "metadata": {
    "pycharm": {
     "name": "#%%\n"
    }
   },
   "outputs": [
    {
     "name": "stdout",
     "output_type": "stream",
     "text": [
      "[n=32]\tconv has 7.02 times more mults than DWS conv\n",
      "[n=40]\tconv has 7.35 times more mults than DWS conv\n",
      "[n=48]\tconv has 7.58 times more mults than DWS conv\n",
      "[n=56]\tconv has 7.75 times more mults than DWS conv\n",
      "[n=64]\tconv has 7.89 times more mults than DWS conv\n",
      "[n=72]\tconv has 8.00 times more mults than DWS conv\n",
      "[n=80]\tconv has 8.09 times more mults than DWS conv\n",
      "[n=88]\tconv has 8.16 times more mults than DWS conv\n",
      "[n=96]\tconv has 8.23 times more mults than DWS conv\n",
      "[n=104]\tconv has 8.28 times more mults than DWS conv\n"
     ]
    }
   ],
   "source": [
    "mults_reduction = lambda n, k: sum((1/n, 1/k**2))\n",
    "\n",
    "kernel_size = 3\n",
    "steps = 10\n",
    "step_size = 8\n",
    "for n in range(32, 32+8*steps, step_size):\n",
    "    print('[n=%d]\\tconv has %.2f times more mults than DWS conv' % (n, 1/mults_reduction(n, kernel_size)))"
   ]
  },
  {
   "cell_type": "markdown",
   "id": "d359ffaf",
   "metadata": {
    "pycharm": {
     "name": "#%% md\n"
    }
   },
   "source": [
    "To make convolution work with each channel separately, __groups__ parameter is used: \n",
    "\n",
    "\n",
    "__Groups__ is a positive integer specifying the number of groups in which the input is split along the channel axis. Each group is convolved separately with `filters / groups` filters. \n",
    "\n",
    "The output is the concatenation of all the groups results along the channel axis. Input channels and filters must both be divisible by groups. "
   ]
  },
  {
   "cell_type": "code",
   "execution_count": 4,
   "id": "40b53ae1",
   "metadata": {
    "pycharm": {
     "name": "#%%\n"
    }
   },
   "outputs": [
    {
     "name": "stdout",
     "output_type": "stream",
     "text": [
      "Group: 1 Weights: torch.Size([50, 25, 3, 3]) Output: torch.Size([1, 50, 28, 28])\n",
      "Group: 5 Weights: torch.Size([50, 5, 3, 3]) Output: torch.Size([1, 50, 28, 28])\n",
      "Group: 25 Weights: torch.Size([50, 1, 3, 3]) Output: torch.Size([1, 50, 28, 28])\n"
     ]
    }
   ],
   "source": [
    "# Groups example:\n",
    "x = torch.Tensor(np.random.normal(size=(1, 25, 28, 28)))\n",
    "for g in (1, 5, 25):\n",
    "    conv = nn.Conv2d(in_channels=25, out_channels=50, kernel_size=3, padding=1, groups=g)\n",
    "    print(f'Group: {g} Weights: {conv.weight.shape} Output: {conv(x).shape}')"
   ]
  },
  {
   "cell_type": "code",
   "execution_count": 5,
   "id": "89bc6fa7",
   "metadata": {
    "pycharm": {
     "name": "#%%\n"
    }
   },
   "outputs": [],
   "source": [
    "class DWSConv2d(nn.Module):\n",
    "    \"\"\"\n",
    "    Depthwise separable convolution\n",
    "    \"\"\"\n",
    "\n",
    "    def __init__(self,\n",
    "                 in_channels: int,\n",
    "                 out_channels: int,\n",
    "                 kernel_size: Union[int, Tuple[int, int]],\n",
    "                 kernels_per_layer: int,\n",
    "                 stride: Union[int, Tuple[int, int]] = 1,\n",
    "                 padding: Union[str, int, Tuple[int, int]] = 0,\n",
    "                 dilation: Union[int, Tuple[int, int]] = 1,\n",
    "                 groups: int = 1,\n",
    "                 *kwargs):\n",
    "        super(DWSConv2d, self).__init__(*kwargs)\n",
    "\n",
    "        self.dw_conv2d = nn.Conv2d(in_channels, in_channels * kernels_per_layer,\n",
    "                                   kernel_size=kernel_size, padding=padding,\n",
    "                                   groups=in_channels)\n",
    "        self.pw_conv2d = nn.Conv2d(in_channels * kernels_per_layer, out_channels, kernel_size=1)\n",
    "\n",
    "    def forward(self, x) -> torch.Tensor:\n",
    "        return self.pw_conv2d(self.dw_conv2d(x))"
   ]
  },
  {
   "cell_type": "markdown",
   "id": "a5f61b59",
   "metadata": {
    "pycharm": {
     "name": "#%% md\n"
    }
   },
   "source": [
    "Xception (Extreme Inception) components:\n",
    "   * InceptionV3 blocks -> DWSConv blocks\n",
    "   * Residual connections\n",
    "    "
   ]
  },
  {
   "cell_type": "markdown",
   "id": "e6d37837",
   "metadata": {
    "pycharm": {
     "name": "#%% md\n"
    }
   },
   "source": [
    "<img src=\"../assets/5_xception.png\" width=\"800\">"
   ]
  },
  {
   "cell_type": "markdown",
   "id": "4ca188eb",
   "metadata": {
    "pycharm": {
     "name": "#%% md\n"
    }
   },
   "source": [
    "<img src=\"../assets/6_xception.png\" width=\"530\">\n",
    "\n",
    "<img src=\"../assets/7_xception.png\" width=\"700\">"
   ]
  },
  {
   "cell_type": "markdown",
   "id": "fa5b8adb",
   "metadata": {
    "pycharm": {
     "name": "#%% md\n"
    }
   },
   "source": [
    "#### Torch [implementation](https://github.com/Cadene/pretrained-models.pytorch/blob/8aae3d8f1135b6b13fed79c1d431e3449fdbf6e0/pretrainedmodels/models/xception.py#L114)\n"
   ]
  },
  {
   "cell_type": "code",
   "execution_count": 6,
   "id": "f03899ed",
   "metadata": {
    "pycharm": {
     "name": "#%%\n"
    }
   },
   "outputs": [
    {
     "data": {
      "text/plain": [
       "Xception(\n",
       "  (conv1): Conv2d(3, 32, kernel_size=(3, 3), stride=(2, 2), bias=False)\n",
       "  (bn1): BatchNorm2d(32, eps=1e-05, momentum=0.1, affine=True, track_running_stats=True)\n",
       "  (relu): ReLU(inplace=True)\n",
       "  (conv2): Conv2d(32, 64, kernel_size=(3, 3), stride=(1, 1), bias=False)\n",
       "  (bn2): BatchNorm2d(64, eps=1e-05, momentum=0.1, affine=True, track_running_stats=True)\n",
       "  (block1): Block(\n",
       "    (skip): Conv2d(64, 128, kernel_size=(1, 1), stride=(2, 2), bias=False)\n",
       "    (skipbn): BatchNorm2d(128, eps=1e-05, momentum=0.1, affine=True, track_running_stats=True)\n",
       "    (relu): ReLU(inplace=True)\n",
       "    (rep): Sequential(\n",
       "      (0): SeparableConv2d(\n",
       "        (conv1): Conv2d(64, 64, kernel_size=(3, 3), stride=(1, 1), padding=(1, 1), groups=64, bias=False)\n",
       "        (pointwise): Conv2d(64, 128, kernel_size=(1, 1), stride=(1, 1), bias=False)\n",
       "      )\n",
       "      (1): BatchNorm2d(128, eps=1e-05, momentum=0.1, affine=True, track_running_stats=True)\n",
       "      (2): ReLU(inplace=True)\n",
       "      (3): SeparableConv2d(\n",
       "        (conv1): Conv2d(128, 128, kernel_size=(3, 3), stride=(1, 1), padding=(1, 1), groups=128, bias=False)\n",
       "        (pointwise): Conv2d(128, 128, kernel_size=(1, 1), stride=(1, 1), bias=False)\n",
       "      )\n",
       "      (4): BatchNorm2d(128, eps=1e-05, momentum=0.1, affine=True, track_running_stats=True)\n",
       "      (5): MaxPool2d(kernel_size=3, stride=2, padding=1, dilation=1, ceil_mode=False)\n",
       "    )\n",
       "  )\n",
       "  (block2): Block(\n",
       "    (skip): Conv2d(128, 256, kernel_size=(1, 1), stride=(2, 2), bias=False)\n",
       "    (skipbn): BatchNorm2d(256, eps=1e-05, momentum=0.1, affine=True, track_running_stats=True)\n",
       "    (relu): ReLU(inplace=True)\n",
       "    (rep): Sequential(\n",
       "      (0): ReLU()\n",
       "      (1): SeparableConv2d(\n",
       "        (conv1): Conv2d(128, 128, kernel_size=(3, 3), stride=(1, 1), padding=(1, 1), groups=128, bias=False)\n",
       "        (pointwise): Conv2d(128, 256, kernel_size=(1, 1), stride=(1, 1), bias=False)\n",
       "      )\n",
       "      (2): BatchNorm2d(256, eps=1e-05, momentum=0.1, affine=True, track_running_stats=True)\n",
       "      (3): ReLU(inplace=True)\n",
       "      (4): SeparableConv2d(\n",
       "        (conv1): Conv2d(256, 256, kernel_size=(3, 3), stride=(1, 1), padding=(1, 1), groups=256, bias=False)\n",
       "        (pointwise): Conv2d(256, 256, kernel_size=(1, 1), stride=(1, 1), bias=False)\n",
       "      )\n",
       "      (5): BatchNorm2d(256, eps=1e-05, momentum=0.1, affine=True, track_running_stats=True)\n",
       "      (6): MaxPool2d(kernel_size=3, stride=2, padding=1, dilation=1, ceil_mode=False)\n",
       "    )\n",
       "  )\n",
       "  (block3): Block(\n",
       "    (skip): Conv2d(256, 728, kernel_size=(1, 1), stride=(2, 2), bias=False)\n",
       "    (skipbn): BatchNorm2d(728, eps=1e-05, momentum=0.1, affine=True, track_running_stats=True)\n",
       "    (relu): ReLU(inplace=True)\n",
       "    (rep): Sequential(\n",
       "      (0): ReLU()\n",
       "      (1): SeparableConv2d(\n",
       "        (conv1): Conv2d(256, 256, kernel_size=(3, 3), stride=(1, 1), padding=(1, 1), groups=256, bias=False)\n",
       "        (pointwise): Conv2d(256, 728, kernel_size=(1, 1), stride=(1, 1), bias=False)\n",
       "      )\n",
       "      (2): BatchNorm2d(728, eps=1e-05, momentum=0.1, affine=True, track_running_stats=True)\n",
       "      (3): ReLU(inplace=True)\n",
       "      (4): SeparableConv2d(\n",
       "        (conv1): Conv2d(728, 728, kernel_size=(3, 3), stride=(1, 1), padding=(1, 1), groups=728, bias=False)\n",
       "        (pointwise): Conv2d(728, 728, kernel_size=(1, 1), stride=(1, 1), bias=False)\n",
       "      )\n",
       "      (5): BatchNorm2d(728, eps=1e-05, momentum=0.1, affine=True, track_running_stats=True)\n",
       "      (6): MaxPool2d(kernel_size=3, stride=2, padding=1, dilation=1, ceil_mode=False)\n",
       "    )\n",
       "  )\n",
       "  (block4): Block(\n",
       "    (relu): ReLU(inplace=True)\n",
       "    (rep): Sequential(\n",
       "      (0): ReLU()\n",
       "      (1): SeparableConv2d(\n",
       "        (conv1): Conv2d(728, 728, kernel_size=(3, 3), stride=(1, 1), padding=(1, 1), groups=728, bias=False)\n",
       "        (pointwise): Conv2d(728, 728, kernel_size=(1, 1), stride=(1, 1), bias=False)\n",
       "      )\n",
       "      (2): BatchNorm2d(728, eps=1e-05, momentum=0.1, affine=True, track_running_stats=True)\n",
       "      (3): ReLU(inplace=True)\n",
       "      (4): SeparableConv2d(\n",
       "        (conv1): Conv2d(728, 728, kernel_size=(3, 3), stride=(1, 1), padding=(1, 1), groups=728, bias=False)\n",
       "        (pointwise): Conv2d(728, 728, kernel_size=(1, 1), stride=(1, 1), bias=False)\n",
       "      )\n",
       "      (5): BatchNorm2d(728, eps=1e-05, momentum=0.1, affine=True, track_running_stats=True)\n",
       "      (6): ReLU(inplace=True)\n",
       "      (7): SeparableConv2d(\n",
       "        (conv1): Conv2d(728, 728, kernel_size=(3, 3), stride=(1, 1), padding=(1, 1), groups=728, bias=False)\n",
       "        (pointwise): Conv2d(728, 728, kernel_size=(1, 1), stride=(1, 1), bias=False)\n",
       "      )\n",
       "      (8): BatchNorm2d(728, eps=1e-05, momentum=0.1, affine=True, track_running_stats=True)\n",
       "    )\n",
       "  )\n",
       "  (block5): Block(\n",
       "    (relu): ReLU(inplace=True)\n",
       "    (rep): Sequential(\n",
       "      (0): ReLU()\n",
       "      (1): SeparableConv2d(\n",
       "        (conv1): Conv2d(728, 728, kernel_size=(3, 3), stride=(1, 1), padding=(1, 1), groups=728, bias=False)\n",
       "        (pointwise): Conv2d(728, 728, kernel_size=(1, 1), stride=(1, 1), bias=False)\n",
       "      )\n",
       "      (2): BatchNorm2d(728, eps=1e-05, momentum=0.1, affine=True, track_running_stats=True)\n",
       "      (3): ReLU(inplace=True)\n",
       "      (4): SeparableConv2d(\n",
       "        (conv1): Conv2d(728, 728, kernel_size=(3, 3), stride=(1, 1), padding=(1, 1), groups=728, bias=False)\n",
       "        (pointwise): Conv2d(728, 728, kernel_size=(1, 1), stride=(1, 1), bias=False)\n",
       "      )\n",
       "      (5): BatchNorm2d(728, eps=1e-05, momentum=0.1, affine=True, track_running_stats=True)\n",
       "      (6): ReLU(inplace=True)\n",
       "      (7): SeparableConv2d(\n",
       "        (conv1): Conv2d(728, 728, kernel_size=(3, 3), stride=(1, 1), padding=(1, 1), groups=728, bias=False)\n",
       "        (pointwise): Conv2d(728, 728, kernel_size=(1, 1), stride=(1, 1), bias=False)\n",
       "      )\n",
       "      (8): BatchNorm2d(728, eps=1e-05, momentum=0.1, affine=True, track_running_stats=True)\n",
       "    )\n",
       "  )\n",
       "  (block6): Block(\n",
       "    (relu): ReLU(inplace=True)\n",
       "    (rep): Sequential(\n",
       "      (0): ReLU()\n",
       "      (1): SeparableConv2d(\n",
       "        (conv1): Conv2d(728, 728, kernel_size=(3, 3), stride=(1, 1), padding=(1, 1), groups=728, bias=False)\n",
       "        (pointwise): Conv2d(728, 728, kernel_size=(1, 1), stride=(1, 1), bias=False)\n",
       "      )\n",
       "      (2): BatchNorm2d(728, eps=1e-05, momentum=0.1, affine=True, track_running_stats=True)\n",
       "      (3): ReLU(inplace=True)\n",
       "      (4): SeparableConv2d(\n",
       "        (conv1): Conv2d(728, 728, kernel_size=(3, 3), stride=(1, 1), padding=(1, 1), groups=728, bias=False)\n",
       "        (pointwise): Conv2d(728, 728, kernel_size=(1, 1), stride=(1, 1), bias=False)\n",
       "      )\n",
       "      (5): BatchNorm2d(728, eps=1e-05, momentum=0.1, affine=True, track_running_stats=True)\n",
       "      (6): ReLU(inplace=True)\n",
       "      (7): SeparableConv2d(\n",
       "        (conv1): Conv2d(728, 728, kernel_size=(3, 3), stride=(1, 1), padding=(1, 1), groups=728, bias=False)\n",
       "        (pointwise): Conv2d(728, 728, kernel_size=(1, 1), stride=(1, 1), bias=False)\n",
       "      )\n",
       "      (8): BatchNorm2d(728, eps=1e-05, momentum=0.1, affine=True, track_running_stats=True)\n",
       "    )\n",
       "  )\n",
       "  (block7): Block(\n",
       "    (relu): ReLU(inplace=True)\n",
       "    (rep): Sequential(\n",
       "      (0): ReLU()\n",
       "      (1): SeparableConv2d(\n",
       "        (conv1): Conv2d(728, 728, kernel_size=(3, 3), stride=(1, 1), padding=(1, 1), groups=728, bias=False)\n",
       "        (pointwise): Conv2d(728, 728, kernel_size=(1, 1), stride=(1, 1), bias=False)\n",
       "      )\n",
       "      (2): BatchNorm2d(728, eps=1e-05, momentum=0.1, affine=True, track_running_stats=True)\n",
       "      (3): ReLU(inplace=True)\n",
       "      (4): SeparableConv2d(\n",
       "        (conv1): Conv2d(728, 728, kernel_size=(3, 3), stride=(1, 1), padding=(1, 1), groups=728, bias=False)\n",
       "        (pointwise): Conv2d(728, 728, kernel_size=(1, 1), stride=(1, 1), bias=False)\n",
       "      )\n",
       "      (5): BatchNorm2d(728, eps=1e-05, momentum=0.1, affine=True, track_running_stats=True)\n",
       "      (6): ReLU(inplace=True)\n",
       "      (7): SeparableConv2d(\n",
       "        (conv1): Conv2d(728, 728, kernel_size=(3, 3), stride=(1, 1), padding=(1, 1), groups=728, bias=False)\n",
       "        (pointwise): Conv2d(728, 728, kernel_size=(1, 1), stride=(1, 1), bias=False)\n",
       "      )\n",
       "      (8): BatchNorm2d(728, eps=1e-05, momentum=0.1, affine=True, track_running_stats=True)\n",
       "    )\n",
       "  )\n",
       "  (block8): Block(\n",
       "    (relu): ReLU(inplace=True)\n",
       "    (rep): Sequential(\n",
       "      (0): ReLU()\n",
       "      (1): SeparableConv2d(\n",
       "        (conv1): Conv2d(728, 728, kernel_size=(3, 3), stride=(1, 1), padding=(1, 1), groups=728, bias=False)\n",
       "        (pointwise): Conv2d(728, 728, kernel_size=(1, 1), stride=(1, 1), bias=False)\n",
       "      )\n",
       "      (2): BatchNorm2d(728, eps=1e-05, momentum=0.1, affine=True, track_running_stats=True)\n",
       "      (3): ReLU(inplace=True)\n",
       "      (4): SeparableConv2d(\n",
       "        (conv1): Conv2d(728, 728, kernel_size=(3, 3), stride=(1, 1), padding=(1, 1), groups=728, bias=False)\n",
       "        (pointwise): Conv2d(728, 728, kernel_size=(1, 1), stride=(1, 1), bias=False)\n",
       "      )\n",
       "      (5): BatchNorm2d(728, eps=1e-05, momentum=0.1, affine=True, track_running_stats=True)\n",
       "      (6): ReLU(inplace=True)\n",
       "      (7): SeparableConv2d(\n",
       "        (conv1): Conv2d(728, 728, kernel_size=(3, 3), stride=(1, 1), padding=(1, 1), groups=728, bias=False)\n",
       "        (pointwise): Conv2d(728, 728, kernel_size=(1, 1), stride=(1, 1), bias=False)\n",
       "      )\n",
       "      (8): BatchNorm2d(728, eps=1e-05, momentum=0.1, affine=True, track_running_stats=True)\n",
       "    )\n",
       "  )\n",
       "  (block9): Block(\n",
       "    (relu): ReLU(inplace=True)\n",
       "    (rep): Sequential(\n",
       "      (0): ReLU()\n",
       "      (1): SeparableConv2d(\n",
       "        (conv1): Conv2d(728, 728, kernel_size=(3, 3), stride=(1, 1), padding=(1, 1), groups=728, bias=False)\n",
       "        (pointwise): Conv2d(728, 728, kernel_size=(1, 1), stride=(1, 1), bias=False)\n",
       "      )\n",
       "      (2): BatchNorm2d(728, eps=1e-05, momentum=0.1, affine=True, track_running_stats=True)\n",
       "      (3): ReLU(inplace=True)\n",
       "      (4): SeparableConv2d(\n",
       "        (conv1): Conv2d(728, 728, kernel_size=(3, 3), stride=(1, 1), padding=(1, 1), groups=728, bias=False)\n",
       "        (pointwise): Conv2d(728, 728, kernel_size=(1, 1), stride=(1, 1), bias=False)\n",
       "      )\n",
       "      (5): BatchNorm2d(728, eps=1e-05, momentum=0.1, affine=True, track_running_stats=True)\n",
       "      (6): ReLU(inplace=True)\n",
       "      (7): SeparableConv2d(\n",
       "        (conv1): Conv2d(728, 728, kernel_size=(3, 3), stride=(1, 1), padding=(1, 1), groups=728, bias=False)\n",
       "        (pointwise): Conv2d(728, 728, kernel_size=(1, 1), stride=(1, 1), bias=False)\n",
       "      )\n",
       "      (8): BatchNorm2d(728, eps=1e-05, momentum=0.1, affine=True, track_running_stats=True)\n",
       "    )\n",
       "  )\n",
       "  (block10): Block(\n",
       "    (relu): ReLU(inplace=True)\n",
       "    (rep): Sequential(\n",
       "      (0): ReLU()\n",
       "      (1): SeparableConv2d(\n",
       "        (conv1): Conv2d(728, 728, kernel_size=(3, 3), stride=(1, 1), padding=(1, 1), groups=728, bias=False)\n",
       "        (pointwise): Conv2d(728, 728, kernel_size=(1, 1), stride=(1, 1), bias=False)\n",
       "      )\n",
       "      (2): BatchNorm2d(728, eps=1e-05, momentum=0.1, affine=True, track_running_stats=True)\n",
       "      (3): ReLU(inplace=True)\n",
       "      (4): SeparableConv2d(\n",
       "        (conv1): Conv2d(728, 728, kernel_size=(3, 3), stride=(1, 1), padding=(1, 1), groups=728, bias=False)\n",
       "        (pointwise): Conv2d(728, 728, kernel_size=(1, 1), stride=(1, 1), bias=False)\n",
       "      )\n",
       "      (5): BatchNorm2d(728, eps=1e-05, momentum=0.1, affine=True, track_running_stats=True)\n",
       "      (6): ReLU(inplace=True)\n",
       "      (7): SeparableConv2d(\n",
       "        (conv1): Conv2d(728, 728, kernel_size=(3, 3), stride=(1, 1), padding=(1, 1), groups=728, bias=False)\n",
       "        (pointwise): Conv2d(728, 728, kernel_size=(1, 1), stride=(1, 1), bias=False)\n",
       "      )\n",
       "      (8): BatchNorm2d(728, eps=1e-05, momentum=0.1, affine=True, track_running_stats=True)\n",
       "    )\n",
       "  )\n",
       "  (block11): Block(\n",
       "    (relu): ReLU(inplace=True)\n",
       "    (rep): Sequential(\n",
       "      (0): ReLU()\n",
       "      (1): SeparableConv2d(\n",
       "        (conv1): Conv2d(728, 728, kernel_size=(3, 3), stride=(1, 1), padding=(1, 1), groups=728, bias=False)\n",
       "        (pointwise): Conv2d(728, 728, kernel_size=(1, 1), stride=(1, 1), bias=False)\n",
       "      )\n",
       "      (2): BatchNorm2d(728, eps=1e-05, momentum=0.1, affine=True, track_running_stats=True)\n",
       "      (3): ReLU(inplace=True)\n",
       "      (4): SeparableConv2d(\n",
       "        (conv1): Conv2d(728, 728, kernel_size=(3, 3), stride=(1, 1), padding=(1, 1), groups=728, bias=False)\n",
       "        (pointwise): Conv2d(728, 728, kernel_size=(1, 1), stride=(1, 1), bias=False)\n",
       "      )\n",
       "      (5): BatchNorm2d(728, eps=1e-05, momentum=0.1, affine=True, track_running_stats=True)\n",
       "      (6): ReLU(inplace=True)\n",
       "      (7): SeparableConv2d(\n",
       "        (conv1): Conv2d(728, 728, kernel_size=(3, 3), stride=(1, 1), padding=(1, 1), groups=728, bias=False)\n",
       "        (pointwise): Conv2d(728, 728, kernel_size=(1, 1), stride=(1, 1), bias=False)\n",
       "      )\n",
       "      (8): BatchNorm2d(728, eps=1e-05, momentum=0.1, affine=True, track_running_stats=True)\n",
       "    )\n",
       "  )\n",
       "  (block12): Block(\n",
       "    (skip): Conv2d(728, 1024, kernel_size=(1, 1), stride=(2, 2), bias=False)\n",
       "    (skipbn): BatchNorm2d(1024, eps=1e-05, momentum=0.1, affine=True, track_running_stats=True)\n",
       "    (relu): ReLU(inplace=True)\n",
       "    (rep): Sequential(\n",
       "      (0): ReLU()\n",
       "      (1): SeparableConv2d(\n",
       "        (conv1): Conv2d(728, 728, kernel_size=(3, 3), stride=(1, 1), padding=(1, 1), groups=728, bias=False)\n",
       "        (pointwise): Conv2d(728, 728, kernel_size=(1, 1), stride=(1, 1), bias=False)\n",
       "      )\n",
       "      (2): BatchNorm2d(728, eps=1e-05, momentum=0.1, affine=True, track_running_stats=True)\n",
       "      (3): ReLU(inplace=True)\n",
       "      (4): SeparableConv2d(\n",
       "        (conv1): Conv2d(728, 728, kernel_size=(3, 3), stride=(1, 1), padding=(1, 1), groups=728, bias=False)\n",
       "        (pointwise): Conv2d(728, 1024, kernel_size=(1, 1), stride=(1, 1), bias=False)\n",
       "      )\n",
       "      (5): BatchNorm2d(1024, eps=1e-05, momentum=0.1, affine=True, track_running_stats=True)\n",
       "      (6): MaxPool2d(kernel_size=3, stride=2, padding=1, dilation=1, ceil_mode=False)\n",
       "    )\n",
       "  )\n",
       "  (conv3): SeparableConv2d(\n",
       "    (conv1): Conv2d(1024, 1024, kernel_size=(3, 3), stride=(1, 1), padding=(1, 1), groups=1024, bias=False)\n",
       "    (pointwise): Conv2d(1024, 1536, kernel_size=(1, 1), stride=(1, 1), bias=False)\n",
       "  )\n",
       "  (bn3): BatchNorm2d(1536, eps=1e-05, momentum=0.1, affine=True, track_running_stats=True)\n",
       "  (conv4): SeparableConv2d(\n",
       "    (conv1): Conv2d(1536, 1536, kernel_size=(3, 3), stride=(1, 1), padding=(1, 1), groups=1536, bias=False)\n",
       "    (pointwise): Conv2d(1536, 2048, kernel_size=(1, 1), stride=(1, 1), bias=False)\n",
       "  )\n",
       "  (bn4): BatchNorm2d(2048, eps=1e-05, momentum=0.1, affine=True, track_running_stats=True)\n",
       "  (last_linear): Linear(in_features=2048, out_features=1000, bias=True)\n",
       ")"
      ]
     },
     "execution_count": 6,
     "metadata": {},
     "output_type": "execute_result"
    }
   ],
   "source": [
    "xception = pretrainedmodels.xception(pretrained=False)\n",
    "xception"
   ]
  },
  {
   "cell_type": "markdown",
   "id": "0d9ae89e",
   "metadata": {
    "pycharm": {
     "name": "#%% md\n"
    }
   },
   "source": [
    "#### Your training code here"
   ]
  },
  {
   "cell_type": "code",
   "execution_count": null,
   "id": "d1145b7b",
   "metadata": {
    "pycharm": {
     "name": "#%%\n"
    }
   },
   "outputs": [],
   "source": [
    "# Define data transformation pipeline.\n",
    "\n",
    "\n",
    "# Initialize dataset and dataloaders.\n",
    "\n",
    "\n",
    "# Initialize pretrained network, replace Linear layer with a new one for your dataset.\n",
    "\n",
    "\n",
    "# Initialize optimizer, loss function and training procedure with handlers/callbacks."
   ]
  },
  {
   "cell_type": "markdown",
   "id": "b6bc7a90",
   "metadata": {
    "pycharm": {
     "name": "#%% md\n"
    }
   },
   "source": [
    "#### References\n",
    "\n",
    "* https://github.com/Cadene/pretrained-models.pytorch#xception\n",
    "* https://onnx.ai/\n",
    "* https://pytorch.org/docs/stable/index.html\n",
    "* https://pytorch.org/docs/0.3.1/nn.html#torch.nn.Conv2d\n",
    "* https://www.tensorflow.org/api_docs/python/tf/keras/layers/Conv2D\n",
    "* https://www.researchgate.net/publication/343943234_Real-Time_Food_Intake_Monitoring_Using_Wearable_Egocnetric_Camera"
   ]
  }
 ],
 "metadata": {
  "kernelspec": {
   "display_name": "Python 3 (ipykernel)",
   "language": "python",
   "name": "python3"
  },
  "language_info": {
   "codemirror_mode": {
    "name": "ipython",
    "version": 3
   },
   "file_extension": ".py",
   "mimetype": "text/x-python",
   "name": "python",
   "nbconvert_exporter": "python",
   "pygments_lexer": "ipython3",
   "version": "3.8.0"
  }
 },
 "nbformat": 4,
 "nbformat_minor": 5
}
