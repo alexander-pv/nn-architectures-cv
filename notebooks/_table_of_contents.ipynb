{
 "cells": [
  {
   "cell_type": "markdown",
   "metadata": {
    "pycharm": {
     "name": "#%%\n"
    }
   },
   "source": [
    "### Exploring a group of common neural networks in 2D computer vision"
   ]
  },
  {
   "cell_type": "markdown",
   "metadata": {
    "pycharm": {
     "name": "#%% md\n"
    }
   },
   "source": [
    "---\n",
    "\n",
    "About me:\n",
    "\n",
    "👋 Alexander Popkov, DS at GazpromNeft \n",
    "\n",
    "More:\n",
    "[LinkedIn](https://www.linkedin.com/in/alrap/)\n",
    "[GitHub](https://github.com/alexander-pv)\n",
    "\n",
    "---"
   ]
  },
  {
   "cell_type": "markdown",
   "metadata": {
    "pycharm": {
     "name": "#%% md\n"
    }
   },
   "source": [
    "#### Running notebooks on your own:\n",
    "\n",
    " \n",
    "```bash\n",
    "$ docker pull alrdockerhub/nn-architectures-cv:latest\n",
    "```\n",
    "or\n",
    "\n",
    "```bash\n",
    "$ git clone nn-architectures-cv && cd nn-architectures-cv\n",
    "```\n",
    "\n",
    "ℹ️ What is covered in the material:\n",
    "\n",
    "* Ideas from articles\n",
    "* Models intuition\n",
    "* Schemes of sophisitcated pipelines\n",
    "* Training examples\n",
    "\n",
    "📒 Table of contents:\n",
    "\n",
    "\n",
    "#### 🐕 🐈 Classification: \n",
    "1. [VGG](cls_1_vgg.ipynb)\n",
    "2. [Inception](cls_2_inception.ipynb)\n",
    "3. [ResNet](cls_3_resnet.ipynb)\n",
    "4. [Xception](cls_3a_xception.ipynb)\n",
    "5. [SqueezeNet](cls_4_squeezenet.ipynb)\n",
    "6. [MobileNet](cls_5_mobilenet.ipynb)\n",
    "7. [ResNet models family (partially)](cls_6_resnet_family.ipynb)\n",
    "8. [EfficientNet](cls_7_efficientnet.ipynb)\n",
    "9. [RegNet (partially)](cls_8_regnet.ipynb)\n",
    "\n",
    "\n",
    "#### 🪟  🌿 Object detection: \n",
    "1. [RCNN family](det_1_rcnn_family.ipynb)\n",
    "2. [YOLO family](det_2_yolo_family.ipynb) \n",
    "3. [SSD family](det_3_ssd_family.ipynb)\n",
    "\n",
    "\n",
    "#### 🌿😀 🤸‍♂️ Instance segmentation, keypoint detection:\n",
    "\n",
    "1. [Mask RCNN](det_iseg_kpdet_1_mask_rcnn.ipynb)\n",
    "\n"
   ]
  },
  {
   "cell_type": "markdown",
   "metadata": {
    "pycharm": {
     "name": "#%% md\n"
    }
   },
   "source": [
    "🤿 If *we need to go deeper*:\n",
    "* [Papers with Code](https://paperswithcode.com/)\n",
    "* [NeurIPS Proceedings](https://papers.nips.cc/)\n",
    "* [arXiv.org submissions (with caution)](https://arxiv.org/list/cs.CV/recent)"
   ]
  }
 ],
 "metadata": {
  "kernelspec": {
   "display_name": "Python 3 (ipykernel)",
   "language": "python",
   "name": "python3"
  },
  "language_info": {
   "codemirror_mode": {
    "name": "ipython",
    "version": 3
   },
   "file_extension": ".py",
   "mimetype": "text/x-python",
   "name": "python",
   "nbconvert_exporter": "python",
   "pygments_lexer": "ipython3",
   "version": "3.8.0"
  }
 },
 "nbformat": 4,
 "nbformat_minor": 1
}