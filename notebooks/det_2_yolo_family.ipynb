{
 "cells": [
  {
   "cell_type": "markdown",
   "id": "9f3962e6",
   "metadata": {
    "pycharm": {
     "name": "#%% md\n"
    }
   },
   "source": [
    "### YOLO object detection architecture\n",
    "\n",
    "\n",
    "### You Only Look Once: Unified, Real-Time Object Detection (Redmon J. et al. , 2016)\n",
    "[Paper](https://arxiv.org/abs/1506.02640)\n",
    "\n",
    "\n",
    "*...we frame object detection as a regression problem to spatially separated bounding boxes and associated class probabilities. A single neural network predicts bounding boxes and class probabilities directly from full images in one evaluation.*"
   ]
  },
  {
   "cell_type": "code",
   "execution_count": 1,
   "id": "63c56996",
   "metadata": {
    "pycharm": {
     "name": "#%%\n"
    }
   },
   "outputs": [],
   "source": [
    "import os\n",
    "import glob\n",
    "import numpy as np\n",
    "from typing import Tuple, Callable\n",
    "\n",
    "import cv2\n",
    "\n",
    "import netron\n",
    "import torch\n",
    "import torch.nn as nn\n",
    "from torch.utils.data import Dataset, DataLoader\n",
    "import torchvision\n",
    "\n",
    "from ignite.engine import create_supervised_evaluator\n",
    "from ignite.metrics import Loss\n",
    "\n",
    "import matplotlib.pyplot as plt\n",
    "\n",
    "assert torch.cuda.is_available() is True\n",
    "%load_ext watermark"
   ]
  },
  {
   "cell_type": "code",
   "execution_count": 2,
   "id": "d6acce03",
   "metadata": {
    "pycharm": {
     "name": "#%%\n"
    }
   },
   "outputs": [
    {
     "name": "stdout",
     "output_type": "stream",
     "text": [
      "torch  : 1.10.2\n",
      "ignite : 0.4.8\n",
      "numpy  : 1.22.1\n",
      "cv2    : 4.5.5\n",
      "sklearn: 0.24.2\n",
      "\n"
     ]
    }
   ],
   "source": [
    "%watermark -p torch,ignite,numpy,cv2,sklearn"
   ]
  },
  {
   "cell_type": "markdown",
   "id": "8b31d84e",
   "metadata": {
    "pycharm": {
     "name": "#%% md\n"
    }
   },
   "source": [
    "<img src=\"../assets/1_yolo.png\" width=\"550\">"
   ]
  },
  {
   "cell_type": "markdown",
   "id": "c4d3c03f",
   "metadata": {
    "pycharm": {
     "name": "#%% md\n"
    }
   },
   "source": [
    "* S x S grid on input, default S=7.\n",
    "\n",
    "\n",
    "* If the center of an object falls into a grid cell, that grid cell is responsible for detecting that object.\n",
    "\n",
    "\n",
    "* Each grid cell has output tensor $1 x 1 x(5 * B + C)$, $C$ - number of classes, $B$ - numbder of predicted bboxes."
   ]
  },
  {
   "cell_type": "markdown",
   "id": "6e05e9c1",
   "metadata": {
    "pycharm": {
     "name": "#%% md\n"
    }
   },
   "source": [
    "\n",
    "Intuition:\n",
    "<img src=\"../assets/3_yolo.svg\" width=\"850\">\n",
    "\n",
    "\n",
    "\n",
    "Assumption: *Multiple object centers can't exist in one grid cell.*\n",
    "\n",
    "\n",
    "* Bbox: $(x, y, w, h, p_{object})$\n",
    "\n",
    "    * (x, y) - the center of the box relative to the bounds of the grid cell, \n",
    "    * w & h - relative to the whole image\n",
    "    * $p_{object}$ - the confidence value that a grid cell contains an object\n",
    "    \n",
    "If $W_x, W_y - $ cell size, $C_x, C_y$ - object center coordinates relative to the upper left corner of the cell,  then:\n",
    "\n",
    "$$ x = \\frac{Cx}{W_x}, $$\n",
    "\n",
    "$$ y = \\frac{C_y}{W_y}, $$ \n",
    "\n",
    "$$ h = \\frac{H_{object}}{H}, $$\n",
    "\n",
    "$$ h = \\frac{W_{object}}{W}. $$\n",
    "\n",
    "During taining, a bounding box for a particular cell = (x, y, w, h, 1), if center is in this cell. Empty cells have zero values in output vectors.\n",
    "\n",
    "\n",
    "\n",
    "\n",
    "\n",
    "\n",
    "GoogLeNet-inspired YOLOv1:\n",
    "<img src=\"../assets/2_yolo.png\" width=\"850\">\n",
    "\n",
    "\n"
   ]
  },
  {
   "cell_type": "markdown",
   "id": "f0b814d8",
   "metadata": {
    "pycharm": {
     "name": "#%% md\n"
    }
   },
   "source": [
    "\n",
    "* Multi-part loss fucntion:\n",
    "\n",
    "$Loss_{total} = \\sum_i^{S \\cdot S}L(i)$\n",
    "\n",
    "$L(i) = \\mathbb{1}^{obj}[L_{class}(i) + \\lambda_{coord}L_{coord}(i) + L_{conf}(i)] + \\mathbb{1}^{noobj}\\lambda_{noobj}L_{noobj}(i) $\n",
    "\n",
    "[Loss details](https://arxiv.org/pdf/1506.02640.pdf)"
   ]
  },
  {
   "cell_type": "code",
   "execution_count": 3,
   "id": "a49b79bf",
   "metadata": {
    "pycharm": {
     "name": "#%%\n"
    }
   },
   "outputs": [],
   "source": [
    "import utils\n",
    "import metrics\n",
    "import training"
   ]
  },
  {
   "cell_type": "code",
   "execution_count": 4,
   "id": "c98a9395",
   "metadata": {
    "pycharm": {
     "name": "#%%\n"
    }
   },
   "outputs": [],
   "source": [
    "class ShapesDataset(Dataset):\n",
    "\n",
    "    def __init__(self, n_images: int, img_size: int, seed: int, transform: Callable = None, \n",
    "                 name: str = 'default', verbose: bool = False):\n",
    "        \"\"\"\n",
    "        Map-style ShapesDataset. YOLO version.\n",
    "\n",
    "        :param n_images:          number of images to generate\n",
    "        :param img_size:          crop image size\n",
    "        :param transform:         final crops transformations\n",
    "        :param name:              dataset name\n",
    "        :param verbose:           class versbosity\n",
    "        \"\"\"\n",
    "        self.n_images = n_images\n",
    "        self.transform = transform\n",
    "        self.img_size = img_size\n",
    "        self.shapes2d = utils.RandomShapes(\n",
    "            img_size=self.img_size, w=50, h=50, nms_threshold=0.1, \n",
    "            background_class=False, seed=seed)\n",
    "        self.name = name\n",
    "        self.verbose = verbose\n",
    "        self.fast_ssearch = True\n",
    "\n",
    "        self._generate_dataset()\n",
    "        \n",
    "        self.S = 7\n",
    "        self.B = 2\n",
    "        self.C = len(self.shapes2d.classes)\n",
    "        self.cell_size = self.img_size // self.S\n",
    "        \n",
    "        self.show_color = (250, 0, 0)\n",
    "        self.grid_color = (0, 250, 0)\n",
    "\n",
    "    @staticmethod\n",
    "    def extract_gtruth(gtruth: list) -> Tuple[np.ndarray, int]:\n",
    "        gt_bbox = [gt for _, gt in gtruth]\n",
    "        gt_class_id = [idx for idx, _ in gtruth]\n",
    "        return gt_bbox, gt_class_id\n",
    "\n",
    "    @staticmethod\n",
    "    def show_image(image: np.ndarray, title: str) -> None:\n",
    "        fig = plt.figure()\n",
    "        plt.imshow(image)\n",
    "        plt.title(title)\n",
    "        plt.axis('off')\n",
    "    \n",
    "    def show_bboxes(self, idx: int, centers: bool = True, grid: bool = True) -> None:\n",
    "        image = self._get_image(idx)\n",
    "        boxes = self._get_boxes(idx)\n",
    "        if grid:\n",
    "            image = self._draw_grid(image)\n",
    "        for box in boxes:\n",
    "            image = cv2.rectangle(image, box, self.show_color, 1)\n",
    "            if centers:\n",
    "                image = self._draw_point(image, box[:2] + box[2:]//2)\n",
    "        self.show_image(image, 'Ground truth')\n",
    "        \n",
    "    def show_cell_info(self, row: int, col: int, idx: int) -> None:\n",
    "        _, target = self.__getitem__(idx)\n",
    "        show_boxes = target[row][col][:train_dataset.B*5].reshape(train_dataset.B, 5)\n",
    "        show_labels = target[row][col][train_dataset.B*5:]\n",
    "        class_id = np.argmax(show_labels)\n",
    "        if class_id:\n",
    "            class_name = train_dataset.shapes2d.classes[int(np.argmax(show_labels))]\n",
    "        else:\n",
    "            class_name = 'empty cell'\n",
    "        print(f'\\nCell: [{row}][{col}]')\n",
    "        print(f'Boxes:\\n{show_boxes}\\nClass confidence: {show_labels}\\nName:{class_name}')\n",
    "        \n",
    "    def _draw_grid(self, image: np.ndarray) -> np.ndarray:\n",
    "        for x in list(range(0, self.img_size, self.cell_size)):\n",
    "            for y in list(range(0, self.img_size, self.cell_size)):\n",
    "                w = x + self.cell_size\n",
    "                h = y + self.cell_size\n",
    "                image = cv2.rectangle(image, (x, y, w, h), self.grid_color, 1)\n",
    "        return image \n",
    "    \n",
    "    def _draw_point(self, image: np.ndarray, box: np.ndarray) -> np.ndarray:\n",
    "        image = cv2.circle(image, box, 2, self.show_color, -1)\n",
    "        return image\n",
    "\n",
    "    def _generate_dataset(self) -> None:\n",
    "        print(f'{self.name} Generating dataset...')\n",
    "        self.images_info = {}\n",
    "        for i in range(self.n_images):\n",
    "            bg_color, shape_specs, gtruths = self.shapes2d.generate_shapes()\n",
    "            self.images_info.update({i: {'bg_color': bg_color,\n",
    "                                         'shape_specs': shape_specs,\n",
    "                                         'gtruths': gtruths\n",
    "                                         }\n",
    "                                     }\n",
    "                                    )\n",
    "    \n",
    "    def _encode(self, boxes: torch.Tensor, labels: torch.Tensor) -> torch.Tensor:\n",
    "        \"\"\" \n",
    "        Source: https://github.com/motokimura/yolo_v1_pytorch\n",
    "        Encode box coordinates and class labels into a tensor.\n",
    "        \n",
    "        boxes_wh & boxes_xy_center have dims [n, 2]\n",
    "        \n",
    "        :param boxes:           (tensor) [[x, y, w, h]_obj1, ...]\n",
    "        :param labels:          (tensor) [c_obj1, c_obj2, ...]\n",
    "        :return: [S, S, 5 x B + C] tensor\n",
    "        \n",
    "        \"\"\"\n",
    "        S, B, C = self.S, self.B, self.C\n",
    "        N = 5 * B + C\n",
    "\n",
    "        target = torch.zeros(S, S, N)\n",
    "        cell_size = 1.0 / float(S)\n",
    "        boxes_wh =  boxes[:, 2:]  \n",
    "        boxes_xy_center = boxes[:, :2] + boxes[:, 2:]/2.0\n",
    "        \n",
    "        for b in range(boxes.size(0)):\n",
    "            center_xy, wh, label = boxes_xy_center[b], boxes_wh[b], int(labels[b])\n",
    "            ij = (center_xy / cell_size).ceil() - 1.0\n",
    "            i, j = int(ij[0]), int(ij[1]) # y & x index which represents its location on the grid.\n",
    "            x0y0 = ij * cell_size # x & y of the cell left-top corner.\n",
    "            xy_normalized = (center_xy - x0y0) / cell_size # x & y of the box on the cell, normalized from 0.0 to 1.0.\n",
    "            for k in range(B):\n",
    "                s = 5 * k\n",
    "                target[j, i, s  :s+2] = xy_normalized\n",
    "                target[j, i, s+2:s+4] = wh\n",
    "                target[j, i, s+4    ] = 1.0\n",
    "            target[j, i, 5*B + label] = 1.0\n",
    "        return target\n",
    "    \n",
    "    def _get_image(self, idx: int) -> np.ndarray:\n",
    "        image = self.shapes2d.generate_image_by_desc(self.images_info[idx]['bg_color'],\n",
    "                                             self.images_info[idx]['shape_specs'])\n",
    "        return image\n",
    "    \n",
    "    def _get_labels(self, idx: int) -> torch.Tensor:\n",
    "        return torch.Tensor([x[0] for x in self.images_info[idx]['gtruths']])\n",
    "    \n",
    "    def _get_boxes(self, idx: int) -> np.ndarray:\n",
    "        boxes = np.array([x[1] for x in self.images_info[idx]['gtruths']])\n",
    "        return boxes\n",
    "    \n",
    "    def _process_boxes(self, boxes: np.ndarray) -> torch.Tensor:\n",
    "        w, h  = self.img_size, self.img_size\n",
    "        boxes = torch.Tensor(boxes)\n",
    "        boxes /= torch.Tensor([[w, h, w, h]]).expand_as(boxes)\n",
    "        return boxes\n",
    "\n",
    "    def __len__(self) -> int:\n",
    "        return len(self.images_info.keys())\n",
    "\n",
    "    def __getitem__(self, idx: int) -> Tuple[np.ndarray, int]:\n",
    "        \n",
    "        image = self._get_image(idx)\n",
    "        \n",
    "        labels = self._get_labels(idx)\n",
    "        boxes = self._get_boxes(idx)\n",
    "        boxes = self._process_boxes(boxes)\n",
    "        target = self._encode(boxes, labels) # [S, S, 5 x B + C]\n",
    "        \n",
    "        \n",
    "        if self.transform:\n",
    "            image = self.transform(image)\n",
    "\n",
    "        return image, target"
   ]
  },
  {
   "cell_type": "code",
   "execution_count": 5,
   "id": "29d9a2dc",
   "metadata": {
    "pycharm": {
     "name": "#%%\n"
    }
   },
   "outputs": [
    {
     "name": "stdout",
     "output_type": "stream",
     "text": [
      "default Generating dataset...\n"
     ]
    },
    {
     "data": {
      "image/png": "[encoded data removed]",
      "text/plain": [
       "<Figure size 432x288 with 1 Axes>"
      ]
     },
     "metadata": {
      "needs_background": "light"
     },
     "output_type": "display_data"
    }
   ],
   "source": [
    "train_dataset = ShapesDataset(50, 140, 123)\n",
    "train_dataset.show_bboxes(1)"
   ]
  },
  {
   "cell_type": "code",
   "execution_count": 6,
   "id": "a1488d42",
   "metadata": {
    "pycharm": {
     "name": "#%%\n"
    }
   },
   "outputs": [
    {
     "name": "stdout",
     "output_type": "stream",
     "text": [
      "\n",
      "Cell: [4][2]\n",
      "Boxes:\n",
      "tensor([[0.3500, 0.2000, 0.2857, 0.2857, 1.0000],\n",
      "        [0.3500, 0.2000, 0.2857, 0.2857, 1.0000]])\n",
      "Class confidence: tensor([0., 0., 1.])\n",
      "Name:square\n",
      "\n",
      "Cell: [4][6]\n",
      "Boxes:\n",
      "tensor([[0.2000, 0.9500, 0.3429, 0.3429, 1.0000],\n",
      "        [0.2000, 0.9500, 0.3429, 0.3429, 1.0000]])\n",
      "Class confidence: tensor([0., 1., 0.])\n",
      "Name:triangle\n",
      "\n",
      "Cell: [0][0]\n",
      "Boxes:\n",
      "tensor([[0., 0., 0., 0., 0.],\n",
      "        [0., 0., 0., 0., 0.]])\n",
      "Class confidence: tensor([0., 0., 0.])\n",
      "Name:empty cell\n"
     ]
    }
   ],
   "source": [
    "# Cells with objects\n",
    "train_dataset.show_cell_info(4, 2, 1)\n",
    "train_dataset.show_cell_info(4, 6, 1)\n",
    "# Empty cell\n",
    "train_dataset.show_cell_info(0, 0, 1)"
   ]
  },
  {
   "cell_type": "code",
   "execution_count": 7,
   "id": "611dfd12",
   "metadata": {
    "pycharm": {
     "name": "#%%\n"
    }
   },
   "outputs": [],
   "source": [
    "class YOLO(nn.Module):\n",
    "\n",
    "    def __init__(self, backbone: nn.Module, num_bboxes: int, num_classes: int):\n",
    "        super(YOLO, self).__init__()\n",
    "\n",
    "        self.backbone = backbone\n",
    "        self.num_cells = 7\n",
    "        self.num_bboxes = num_bboxes\n",
    "        self.num_classes = num_classes\n",
    "        self.output_shape = (-1, self.num_cells, self.num_cells,\n",
    "                             5 * self.num_bboxes + self.num_classes)\n",
    "\n",
    "        self.conv1 = nn.Conv2d(in_channels=96,\n",
    "                               out_channels=48, kernel_size=3)\n",
    "        self.conv2 = nn.Conv2d(in_channels=48,\n",
    "                               out_channels=5 * self.num_bboxes + self.num_classes, kernel_size=1)\n",
    "        self.dropout = nn.Dropout(0.5)\n",
    "        self.relu = nn.ReLU()\n",
    "        self.sigmoid = nn.Sigmoid()\n",
    "\n",
    "    def forward(self, x: torch.Tensor) -> torch.Tensor:\n",
    "\n",
    "        x = self.backbone(x)\n",
    "        x = self.dropout(x)\n",
    "        x = self.conv1(x)\n",
    "        x = self.relu(x)\n",
    "        x = self.conv2(x)\n",
    "        x = self.sigmoid(x)\n",
    "        x = x.view(self.output_shape)\n",
    "        return x\n",
    "\n",
    "    def _inference(self, img: np.ndarray, device: str, transform: Callable) -> torch.Tensor:\n",
    "        \"\"\"\n",
    "        :param img:       image input without preprocessing\n",
    "        :param device:    cpu/gpu\n",
    "        :param transform: callable input preprocessing\n",
    "        :return: [S, S, 5 x B + C] tensor\n",
    "        \"\"\"\n",
    "\n",
    "        if transform:\n",
    "            img = transform(img)\n",
    "        if x.dim() == 3:\n",
    "            img = img.unsqueeze(0)\n",
    "            \n",
    "        with torch.no_grad():\n",
    "            out = self.forward(img.to(device))\n",
    "        \n",
    "        return out\n",
    "    \n",
    "    def _get_bbox_scores(self, out: torch.Tensor, box_index: int) -> torch.Tensor:\n",
    "        \"\"\"\n",
    "        Calculate cell scores for each bbox by multiplying P(class_i|obj) and P(obj)\n",
    "        By default, box_index={4, 9}: \n",
    "            [x1, y1, w1, h1, p1(objectness)][x2, y2, w2, h2, p2(objectness)]\n",
    "        :param out: inference output\n",
    "        :param box_index: position of objectness score for a bounding box in a cell\n",
    "        \"\"\"\n",
    "        return torch.cat([(out[:, :, 5*2:][:, :, label] * out[:, :, box_index]).unsqueeze(0) \n",
    "                          for label in range(self.num_classes)])\n",
    "    \n",
    "    def _decode(self, out: torch.Tensor, bboxes_scores: tuple or list, \n",
    "                img_size: int, conf_thresh: float) -> Tuple[torch.Tensor, torch.Tensor, torch.Tensor]:\n",
    "        \n",
    "        \"\"\"\n",
    "        :param bboxes_scores:  scores, [[class_id, n_cells, n_cells],...]\n",
    "        :param img_size:       input img size\n",
    "        :param conf_thresh: confidence threshold\n",
    "        :return: bounding boxes, scores and class labels\n",
    "        \"\"\"\n",
    "        \n",
    "        out_classes = torch.Tensor([])\n",
    "        out_bboxes = torch.Tensor([])\n",
    "        out_scores = torch.Tensor([])\n",
    "        cell_size = 1 / self.num_cells\n",
    "        \n",
    "        for box_id, box_scores in enumerate(bboxes_scores):\n",
    "            \n",
    "            class_ids, rows, cols = torch.where(box_scores > conf_thresh)\n",
    "            \n",
    "            bboxes = out[rows, cols, 5*box_id: 5*box_id + 4].clone()\n",
    "            bboxes_scores = box_scores[class_ids, rows, cols].clone()\n",
    "\n",
    "            cols_rows = torch.vstack([cols, rows]).T\n",
    "            \n",
    "            x0y0_normalized = cols_rows * cell_size\n",
    "            xy_normalized = bboxes[:, :2] * cell_size + x0y0_normalized\n",
    "            wh_normalized = bboxes[:, 2:]\n",
    "\n",
    "            boxes_xywh = torch.zeros((bboxes.shape[0], 4))\n",
    "            boxes_xywh[:, :2] = xy_normalized - 0.5 * wh_normalized\n",
    "            boxes_xywh[:, 2:] = wh_normalized\n",
    "\n",
    "            boxes_xywh *= torch.repeat_interleave(torch.Tensor([img_size]), 4).expand_as(boxes_xywh)\n",
    "            boxes_xywh = boxes_xywh.ceil()\n",
    "            \n",
    "            out_classes = torch.cat([out_classes, class_ids])\n",
    "            out_bboxes = torch.cat([out_bboxes, boxes_xywh])\n",
    "            out_scores = torch.cat([out_scores, bboxes_scores])\n",
    "        return out_bboxes, out_scores, out_classes\n",
    "            \n",
    "        \n",
    "    def detect(self, img: np.ndarray, conf_thresh: float, \n",
    "               transform: Callable = None, box_ids: tuple = (4, 9)) -> tuple:\n",
    "        \"\"\"\n",
    "        :param img:\n",
    "        :param conf_thresh:\n",
    "        :param transform:\n",
    "        :param box_ids:\n",
    "        \"\"\"\n",
    "        img_size, _ , _ = img.shape\n",
    "        device = next(self.parameters()).device.type\n",
    "        \n",
    "        output = self._inference(img, device, transform)[0].cpu()\n",
    "        boxes_scores = [self._get_bbox_scores(output, b_id) for b_id in box_ids ]\n",
    "        bboxes, scores, classes = self._decode(output, boxes_scores, img_size, conf_thresh) \n",
    "        \n",
    "        bboxes, scores , classes =  \\\n",
    "        bboxes.ceil().numpy().astype(int), scores.numpy(), classes.numpy().astype(int)\n",
    "\n",
    "        return bboxes, scores, classes"
   ]
  },
  {
   "cell_type": "code",
   "execution_count": 8,
   "id": "cf619e56",
   "metadata": {
    "pycharm": {
     "name": "#%%\n"
    }
   },
   "outputs": [],
   "source": [
    "mbnet_backbone = torchvision.models.mobilenet_v2(pretrained=True, progress=False)\n",
    "mbnet_backbone = nn.Sequential(*list(mbnet_backbone.features.children())[:-5])\n",
    "yolo = YOLO(backbone=mbnet_backbone, num_bboxes=2, num_classes=3)\n",
    "\n",
    "x = torch.Tensor(np.random.normal(size=(3, 140, 140)))\n",
    "model_path = os.path.join('onnx_graphs', 'custom_yolov1.onnx')\n",
    "torch.onnx.export(yolo, torch.unsqueeze(x, 0), model_path,\n",
    "                  input_names=['input'], output_names=['output'], opset_version=10)"
   ]
  },
  {
   "cell_type": "code",
   "execution_count": null,
   "id": "af2eae16",
   "metadata": {
    "pycharm": {
     "name": "#%%\n"
    }
   },
   "outputs": [],
   "source": [
    "netron.start(model_path, 30000)"
   ]
  },
  {
   "cell_type": "code",
   "execution_count": 9,
   "id": "2c8c3c10",
   "metadata": {
    "pycharm": {
     "name": "#%%\n"
    }
   },
   "outputs": [],
   "source": [
    "transforms = [\n",
    "    torchvision.transforms.ToPILImage(),\n",
    "    torchvision.transforms.Resize((140, 140)),\n",
    "    torchvision.transforms.ToTensor(),\n",
    "    torchvision.transforms.Normalize(mean=[0.485, 0.456, 0.406], std=[0.229, 0.224, 0.225]),\n",
    "]"
   ]
  },
  {
   "cell_type": "code",
   "execution_count": 10,
   "id": "60a25d1d",
   "metadata": {
    "pycharm": {
     "name": "#%%\n"
    }
   },
   "outputs": [
    {
     "name": "stdout",
     "output_type": "stream",
     "text": [
      "train Generating dataset...\n",
      "val Generating dataset...\n",
      "test Generating dataset...\n"
     ]
    }
   ],
   "source": [
    "datasets = {}\n",
    "for name, n_images, seed in zip(('train', 'val', 'test'),\n",
    "                                (5000, 250, 100),\n",
    "                                (123, 321, 42)):\n",
    "    datasets.update({name:\n",
    "                     ShapesDataset(\n",
    "                         n_images=n_images,\n",
    "                         img_size=140,\n",
    "                         seed=seed,\n",
    "                         transform=torchvision.transforms.Compose(transforms),\n",
    "                         name=name)\n",
    "                     }\n",
    "                    )"
   ]
  },
  {
   "cell_type": "code",
   "execution_count": 11,
   "id": "429edad8",
   "metadata": {
    "pycharm": {
     "name": "#%%\n"
    }
   },
   "outputs": [],
   "source": [
    "n_classes = len(datasets['train'].shapes2d.classes)\n",
    "num_boxes = 2\n",
    "feature_size = 7\n",
    "\n",
    "batch_size = 16\n",
    "epochs = 30\n",
    "l_rate = 0.001\n",
    "device = 'cuda'\n",
    "\n",
    "train_flag = False"
   ]
  },
  {
   "cell_type": "code",
   "execution_count": 12,
   "id": "66d86346",
   "metadata": {
    "pycharm": {
     "name": "#%%\n"
    }
   },
   "outputs": [],
   "source": [
    "# Init dataloaders\n",
    "train_loader = DataLoader(datasets['train'], batch_size=batch_size)\n",
    "val_loader = DataLoader(datasets['val'], batch_size=batch_size)\n",
    "test_loader = DataLoader(datasets['test'], batch_size=batch_size)\n",
    "\n",
    "mbnet_backbone = torchvision.models.mobilenet_v2(pretrained=True, progress=False)\n",
    "mbnet_backbone = nn.Sequential(*list(mbnet_backbone.features.children())[:-5])\n",
    "yolo = YOLO(backbone=mbnet_backbone, num_bboxes=2, num_classes=3)\n",
    "yolo = yolo.to(device)"
   ]
  },
  {
   "cell_type": "code",
   "execution_count": 13,
   "id": "3e868623",
   "metadata": {
    "pycharm": {
     "name": "#%%\n"
    }
   },
   "outputs": [
    {
     "name": "stdout",
     "output_type": "stream",
     "text": [
      "Loading weights: ./saved_models/yolo_mbnet/yolo_mbnet_shapes2d_29_1.2412.pt\n"
     ]
    }
   ],
   "source": [
    "criterion = training.YOLOLoss(feature_size=feature_size, num_bboxes=num_boxes, num_classes=n_classes)\n",
    "\n",
    "if train_flag:\n",
    "    optimizer = torch.optim.Adam(yolo.parameters(), lr=l_rate)\n",
    "    training.train_model(train_loader=train_loader,\n",
    "                         val_loader=val_loader,\n",
    "                         dataset_name='shapes2d',\n",
    "                         model=yolo,\n",
    "                         model_name='yolo_mbnet',\n",
    "                         optimizer=optimizer,\n",
    "                         criterion=criterion,\n",
    "                         checkpoint_dir=os.path.join(\n",
    "                             '.', 'saved_models', 'yolo_mbnet'),\n",
    "                         checkpoint_metric='loss',\n",
    "                         epochs=epochs,\n",
    "                         device=device)\n",
    "else:\n",
    "    path = glob.glob(os.path.join('.', 'saved_models',\n",
    "                     'yolo_mbnet', 'yolo_mbnet_shapes2d*.pt'))[0]\n",
    "    print(f'Loading weights: {path}')\n",
    "    yolo.load_state_dict(torch.load(path, map_location=device))\n",
    "    yolo = yolo.eval()"
   ]
  },
  {
   "cell_type": "markdown",
   "id": "3dd2d23a",
   "metadata": {
    "pycharm": {
     "name": "#%% md\n"
    }
   },
   "source": [
    "Calculate loss for test subset:"
   ]
  },
  {
   "cell_type": "code",
   "execution_count": 14,
   "id": "d090a91a",
   "metadata": {
    "pycharm": {
     "name": "#%%\n"
    }
   },
   "outputs": [
    {
     "data": {
      "text/plain": [
       "{'loss': 0.6911354827880859}"
      ]
     },
     "execution_count": 14,
     "metadata": {},
     "output_type": "execute_result"
    }
   ],
   "source": [
    "test_engine = create_supervised_evaluator(\n",
    "    yolo.to(device),\n",
    "    device=device,\n",
    "    metrics={'loss': Loss(criterion)}\n",
    ")\n",
    "state = test_engine.run(test_loader)\n",
    "state.metrics"
   ]
  },
  {
   "cell_type": "code",
   "execution_count": 15,
   "id": "d7b23ec6",
   "metadata": {
    "pycharm": {
     "name": "#%%\n"
    }
   },
   "outputs": [],
   "source": [
    "shapes2d = utils.RandomShapes(img_size=140, w=40, h=40, seed=512)\n",
    "test_image = shapes2d.get_image()[0]\n",
    "boxes, scores, classes = yolo.detect(test_image, 0.3, torchvision.transforms.Compose(transforms))"
   ]
  },
  {
   "cell_type": "code",
   "execution_count": 16,
   "id": "69c6ac48",
   "metadata": {
    "pycharm": {
     "name": "#%%\n"
    }
   },
   "outputs": [
    {
     "data": {
      "image/png": "[encoded data removed]",
      "text/plain": [
       "<Figure size 360x360 with 1 Axes>"
      ]
     },
     "metadata": {
      "needs_background": "light"
     },
     "output_type": "display_data"
    },
    {
     "data": {
      "image/png": "[encoded data removed]",
      "text/plain": [
       "<Figure size 360x360 with 1 Axes>"
      ]
     },
     "metadata": {
      "needs_background": "light"
     },
     "output_type": "display_data"
    }
   ],
   "source": [
    "for class_idx in np.unique(classes):\n",
    "    img_copy = test_image.copy()\n",
    "    for pts in boxes[classes==class_idx]:\n",
    "        cv2.rectangle(img_copy, pts, (10, 255, 150), 1)\n",
    "    fig = plt.figure(figsize=(5,5))\n",
    "    plt.imshow(img_copy)\n",
    "    plt.title(f'{shapes2d.classes[class_idx]} detections')\n",
    "    plt.axis('off')"
   ]
  },
  {
   "cell_type": "markdown",
   "id": "24f13946",
   "metadata": {
    "pycharm": {
     "name": "#%% md\n"
    }
   },
   "source": [
    "### YOLO9000: Better, Faster, Stronger (Redmon J., Farhadi A., 2017)\n",
    "[Paper](https://arxiv.org/abs/1612.08242)"
   ]
  },
  {
   "cell_type": "markdown",
   "id": "3c588afb",
   "metadata": {
    "pycharm": {
     "name": "#%% md\n"
    }
   },
   "source": [
    "\n",
    "* YOLO main drawbacks:\n",
    "\n",
    "    * A significant number of localization error compared to Fast/Faster RCNN\n",
    "    \n",
    "    * Struggles to detect close objects\n",
    "    \n",
    "    * Low recall \n",
    "    \n",
    "    * One target cell connected to the ground truth bboxes \n",
    "    \n",
    "    \n",
    "* What's new:\n",
    "\n",
    "    * BatchNorm (because of GoogleNet default backbone)\n",
    "    * High resolution classifier, from 224x224 input to 416x416 (to get the odd number of cells and, thus, a single center cell on a grid) with 13x13 feature map (32x downsampling).\n",
    "    * No fully connected layers\n",
    "    * Anchor boxes from Faster RCNN \n",
    "    * Generate prior anchors with k-means GT bboxes (default K=5)\n",
    "    \n",
    "    \n",
    "<img src=\"../assets/6_yolo.png\" width=\"450\">\n",
    "\n",
    "* \n",
    "    * Instead of predicting offsets YOLO still predict location coordinates relative to the location of the grid cell, which still boundshround truth to [0,1].\n",
    "    * Second feature map 26x26 to detect smaller objects\n",
    "    * Multi-scale training with input sizes: {320, 352, ..., 608}\n",
    "    \n",
    "    \n",
    "<img src=\"../assets/4_yolo.png\" width=\"750\">\n",
    "\n",
    "\n",
    "*Note: mAP or mAp@IoU, class averaged area under Precision-Recall curve*\n",
    "\n",
    "\n",
    "\n",
    "<img src=\"../assets/5_yolo.png\" width=\"450\">"
   ]
  },
  {
   "cell_type": "markdown",
   "id": "5ffd286c",
   "metadata": {
    "pycharm": {
     "name": "#%% md\n"
    }
   },
   "source": [
    "The model inspired researchers to new improvement ideas:"
   ]
  },
  {
   "cell_type": "markdown",
   "id": "6453ecd9",
   "metadata": {
    "pycharm": {
     "name": "#%% md\n"
    }
   },
   "source": [
    "### Fast YOLO: A fast you only look once system for real-time embedded object detection in video (Shafiee M. J. et al., 2017)\n",
    "[Paper](https://arxiv.org/abs/1709.05943)\n",
    "\n",
    "\n",
    "### YOLOv3: An Incremental Improvement (Redmon J., Farhadi A., 2018)\n",
    "[Paper](https://arxiv.org/abs/1804.02767)\n",
    "\n",
    "\n",
    "\n",
    "### YOLOv4: Optimal Speed and Accuracy of Object Detection (Bochkovskiy A. et al., 2020)\n",
    "[Paper](https://arxiv.org/abs/2004.10934)\n",
    "\n",
    "\n",
    "\n",
    "### YOLOv5 (Glenn Jocher, 2020)\n",
    "[GitHub](https://github.com/ultralytics/yolov5)\n",
    "\n",
    "\n",
    "\n",
    "### YOLOX: Exceeding YOLO Series in 2021 (Ge Z. et al., 2021)\n",
    "[Paper](https://arxiv.org/abs/2107.08430)\n",
    "\n",
    "\n",
    "Architectures based on experiments with [PaddlePaddle](https://github.com/PaddlePaddle/Paddle) ML platfrom\n",
    "\n",
    "### PP-YOLO: An Effective and Efficient Implementation of Object Detector (Long X. et al., 2020)\n",
    "[Paper](https://arxiv.org/abs/2007.12099)\n",
    "\n",
    "\n",
    "### PP-YOLOv2: A Practical Object Detector (Huang X. et al., 2021)\n",
    "[Paper](https://arxiv.org/abs/2104.10419)"
   ]
  },
  {
   "cell_type": "markdown",
   "id": "35be2a43",
   "metadata": {
    "pycharm": {
     "name": "#%% md\n"
    }
   },
   "source": [
    "#### References\n",
    "\n",
    "* https://docs.ultralytics.com/#the-history-of-yolo\n",
    "* https://github.com/ultralytics/yolov5\n",
    "* https://github.com/PaddlePaddle/Paddle/tree/develop/doc"
   ]
  }
 ],
 "metadata": {
  "kernelspec": {
   "display_name": "Python 3 (ipykernel)",
   "language": "python",
   "name": "python3"
  },
  "language_info": {
   "codemirror_mode": {
    "name": "ipython",
    "version": 3
   },
   "file_extension": ".py",
   "mimetype": "text/x-python",
   "name": "python",
   "nbconvert_exporter": "python",
   "pygments_lexer": "ipython3",
   "version": "3.8.0"
  }
 },
 "nbformat": 4,
 "nbformat_minor": 5
}
