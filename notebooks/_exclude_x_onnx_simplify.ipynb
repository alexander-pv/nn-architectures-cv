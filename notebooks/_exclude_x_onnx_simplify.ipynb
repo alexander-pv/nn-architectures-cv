{
 "cells": [
  {
   "cell_type": "markdown",
   "id": "e3009643",
   "metadata": {
    "pycharm": {
     "name": "#%% md\n"
    }
   },
   "source": [
    "### The Open Neural Network Exchange format, a.k.a ONNX\n",
    "\n",
    "[Overview](https://github.com/onnx/onnx/blob/main/docs/Overview.md)"
   ]
  },
  {
   "cell_type": "code",
   "execution_count": null,
   "id": "5e63670f",
   "metadata": {
    "pycharm": {
     "name": "#%%\n"
    }
   },
   "outputs": [],
   "source": []
  },
  {
   "cell_type": "code",
   "execution_count": null,
   "id": "bafab415",
   "metadata": {
    "pycharm": {
     "name": "#%%\n"
    }
   },
   "outputs": [],
   "source": []
  },
  {
   "cell_type": "code",
   "execution_count": null,
   "id": "9bd97998",
   "metadata": {
    "pycharm": {
     "name": "#%%\n"
    }
   },
   "outputs": [],
   "source": []
  },
  {
   "cell_type": "markdown",
   "id": "23f8c2fa",
   "metadata": {
    "pycharm": {
     "name": "#%% md\n"
    }
   },
   "source": [
    "#### References:\n",
    "\n",
    "* [ONNXRuntime](https://onnxruntime.ai/)\n",
    "* [torch2onnx](https://pytorch.org/docs/stable/onnx.html)\n",
    "* [tensforflow2onnx](https://github.com/onnx/tensorflow-onnx)\n",
    "* [onnx-tensorrt](https://github.com/onnx/onnx-tensorrt)\n",
    "* [mmdetection_onnx2tensorrt](https://mmdetection.readthedocs.io/en/latest/tutorials/onnx2tensorrt.html)\n",
    "* [sklearn2onnx](http://onnx.ai/sklearn-onnx/)\n",
    "* [XGBoost2onnx](http://onnx.ai/sklearn-onnx/auto_examples/plot_pipeline_xgboost.html)\n",
    "* [LGBM2onnx](http://onnx.ai/sklearn-onnx/auto_examples/plot_pipeline_lightgbm.html)"
   ]
  },
  {
   "cell_type": "code",
   "execution_count": null,
   "id": "70c751bc",
   "metadata": {
    "pycharm": {
     "name": "#%%\n"
    }
   },
   "outputs": [],
   "source": []
  }
 ],
 "metadata": {
  "kernelspec": {
   "display_name": "Python 3 (ipykernel)",
   "language": "python",
   "name": "python3"
  },
  "language_info": {
   "codemirror_mode": {
    "name": "ipython",
    "version": 3
   },
   "file_extension": ".py",
   "mimetype": "text/x-python",
   "name": "python",
   "nbconvert_exporter": "python",
   "pygments_lexer": "ipython3",
   "version": "3.8.0"
  }
 },
 "nbformat": 4,
 "nbformat_minor": 5
}