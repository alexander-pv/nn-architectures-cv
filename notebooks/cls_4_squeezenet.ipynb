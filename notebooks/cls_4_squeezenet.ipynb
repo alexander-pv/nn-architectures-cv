{
 "cells": [
  {
   "cell_type": "markdown",
   "id": "590e6399",
   "metadata": {
    "pycharm": {
     "name": "#%% md\n"
    }
   },
   "source": [
    "### SqueezeNet \n",
    "\n",
    "### SqueezeNet: AlexNet-level accuracy with 50x fewer parameters and< 0.5 MB model size  (Iandola F. N. et al., DeepScale & UC Berkeley & Stanford, 2016)\n",
    "\n",
    "*SqueezeNet achieves\n",
    "AlexNet-level accuracy on ImageNet with 50x fewer parameters. Additionally,\n",
    "with model compression techniques, we are able to compress SqueezeNet to less\n",
    "than 0.5MB (510× smaller than AlexNet)*\n",
    "\n",
    "\n",
    "[Paper](https://arxiv.org/abs/1602.07360)"
   ]
  },
  {
   "cell_type": "code",
   "execution_count": 1,
   "id": "b53104a8",
   "metadata": {
    "pycharm": {
     "name": "#%%\n"
    }
   },
   "outputs": [
    {
     "data": {
      "text/html": [
       "        <script type=\"text/javascript\">\n",
       "        window.PlotlyConfig = {MathJaxConfig: 'local'};\n",
       "        if (window.MathJax) {MathJax.Hub.Config({SVG: {font: \"STIX-Web\"}});}\n",
       "        if (typeof require !== 'undefined') {\n",
       "        require.undef(\"plotly\");\n",
       "        requirejs.config({\n",
       "            paths: {\n",
       "                'plotly': ['https://cdn.plot.ly/plotly-2.9.0.min']\n",
       "            }\n",
       "        });\n",
       "        require(['plotly'], function(Plotly) {\n",
       "            window._Plotly = Plotly;\n",
       "        });\n",
       "        }\n",
       "        </script>\n",
       "        "
      ]
     },
     "metadata": {},
     "output_type": "display_data"
    }
   ],
   "source": [
    "import os\n",
    "import numpy as np\n",
    "import netron\n",
    "import torch\n",
    "import torch.nn as nn\n",
    "\n",
    "import plotly.offline as offline\n",
    "offline.init_notebook_mode(connected=True)\n",
    "\n",
    "assert torch.cuda.is_available() is True\n",
    "%load_ext watermark"
   ]
  },
  {
   "cell_type": "code",
   "execution_count": 2,
   "id": "aa9584d8",
   "metadata": {
    "pycharm": {
     "name": "#%%\n"
    }
   },
   "outputs": [
    {
     "name": "stdout",
     "output_type": "stream",
     "text": [
      "torch  : 1.10.2\n",
      "ignite : 0.4.8\n",
      "numpy  : 1.22.1\n",
      "netron : 5.5.5\n",
      "sklearn: 0.24.2\n",
      "pandas : 1.4.1\n",
      "plotly : 5.6.0\n",
      "\n"
     ]
    }
   ],
   "source": [
    "%watermark -p torch,ignite,numpy,netron,sklearn,pandas,plotly"
   ]
  },
  {
   "cell_type": "markdown",
   "id": "ebe040c4",
   "metadata": {
    "pycharm": {
     "name": "#%% md\n"
    }
   },
   "source": [
    "#### SqueezeNet\n",
    "\n",
    "Motivation:\n",
    "\n",
    "* More efficient distributed training;\n",
    "\n",
    "* Less overhead when exporting new models to clients;\n",
    "\n",
    "* FPGA [1](https://habr.com/ru/post/505838/), [2](https://web.archive.org/web/20070412183416/http://filebox.vt.edu/users/tmagin/history.htm) usability with max 10Mb on-chip memory.\n",
    "\n",
    "Main ideas:\n",
    "\n",
    "* Replace 3x3 filters with 1x1 filters;\n",
    "* Decrease the number of input channels to 3x3 filters with \"squeeze\" layers;\n",
    "* Downsample late in the network so that convolution layers have large activation maps. Intuition: large activation maps can lead to higher classification accuracy;\n",
    "* General building block - fire module."
   ]
  },
  {
   "cell_type": "markdown",
   "id": "367800c4",
   "metadata": {
    "pycharm": {
     "name": "#%% md\n"
    }
   },
   "source": [
    "#### Fire module"
   ]
  },
  {
   "cell_type": "code",
   "execution_count": 3,
   "id": "5add44cb",
   "metadata": {
    "pycharm": {
     "name": "#%%\n"
    }
   },
   "outputs": [],
   "source": [
    "class Fire(nn.Module):\n",
    "    def __init__(self, inplanes: int, squeeze_planes: int, expand1x1_planes: int, expand3x3_planes: int) -> None:\n",
    "        super().__init__()\n",
    "        self.inplanes = inplanes\n",
    "        self.squeeze = nn.Conv2d(inplanes, squeeze_planes, kernel_size=1)\n",
    "        self.squeeze_activation = nn.ReLU(inplace=True)\n",
    "        self.expand1x1 = nn.Conv2d(squeeze_planes, expand1x1_planes, kernel_size=1)\n",
    "        self.expand1x1_activation = nn.ReLU(inplace=True)\n",
    "        self.expand3x3 = nn.Conv2d(squeeze_planes, expand3x3_planes, kernel_size=3, padding=1)\n",
    "        self.expand3x3_activation = nn.ReLU(inplace=True)\n",
    "\n",
    "    def forward(self, x: torch.Tensor) -> torch.Tensor:\n",
    "        x = self.squeeze_activation(self.squeeze(x))\n",
    "        return torch.cat(\n",
    "            [self.expand1x1_activation(self.expand1x1(x)), self.expand3x3_activation(self.expand3x3(x))], 1\n",
    "        )"
   ]
  },
  {
   "cell_type": "code",
   "execution_count": 4,
   "id": "13657651",
   "metadata": {
    "pycharm": {
     "name": "#%%\n"
    }
   },
   "outputs": [
    {
     "name": "stdout",
     "output_type": "stream",
     "text": [
      "Serving 'onnx_graphs/fire_module.onnx' at http://localhost:30000\n"
     ]
    },
    {
     "data": {
      "text/plain": [
       "('localhost', 30000)"
      ]
     },
     "execution_count": 4,
     "metadata": {},
     "output_type": "execute_result"
    }
   ],
   "source": [
    "fire_module = Fire(96, 16, 64, 64)\n",
    "x = torch.Tensor(np.random.normal(size=(1, 96, 64, 64)))\n",
    "model_path = os.path.join('onnx_graphs', 'fire_module.onnx')\n",
    "torch.onnx.export(fire_module, x, model_path,\n",
    "                  input_names=['input'], output_names=['output'], opset_version=10)\n",
    "netron.start(model_path, 30000)"
   ]
  },
  {
   "cell_type": "markdown",
   "id": "e8462f7d",
   "metadata": {
    "pycharm": {
     "name": "#%% md\n"
    }
   },
   "source": [
    "<img src=\"../assets/1_squeezenet.png\" width=\"750\">"
   ]
  },
  {
   "cell_type": "markdown",
   "id": "59b4ac69",
   "metadata": {
    "pycharm": {
     "name": "#%% md\n"
    }
   },
   "source": [
    "<img src=\"../assets/2_squeezenet.png\" width=\"750\">"
   ]
  },
  {
   "cell_type": "markdown",
   "id": "06a07bf9",
   "metadata": {
    "pycharm": {
     "name": "#%% md\n"
    }
   },
   "source": [
    "#### Torch [implementation](https://github.com/pytorch/vision/blob/50608fbc263da386ad7abf7b32bd32ed7f691170/torchvision/models/squeezenet.py#L36)"
   ]
  },
  {
   "cell_type": "markdown",
   "id": "80ec261b",
   "metadata": {
    "pycharm": {
     "name": "#%% md\n"
    }
   },
   "source": [
    "#### FPGA [implementation](https://github.com/dgschwend/zynqnet)\n",
    "\n",
    "*FPGA, field-programmable gate array"
   ]
  },
  {
   "cell_type": "markdown",
   "id": "b83567dd",
   "metadata": {
    "pycharm": {
     "name": "#%% md\n"
    }
   },
   "source": [
    "#### Your training code here"
   ]
  },
  {
   "cell_type": "code",
   "execution_count": null,
   "id": "b87379e6",
   "metadata": {
    "pycharm": {
     "name": "#%%\n"
    }
   },
   "outputs": [],
   "source": [
    "# Define data transformation pipeline.\n",
    "\n",
    "\n",
    "# Initialize dataset and dataloaders.\n",
    "\n",
    "\n",
    "# Initialize pretrained network, replace Linear layer with a new one for your dataset.\n",
    "\n",
    "\n",
    "# Initialize optimizer, loss function and training procedure with handlers/callbacks."
   ]
  },
  {
   "cell_type": "markdown",
   "id": "a5d74233",
   "metadata": {
    "pycharm": {
     "name": "#%% md\n"
    }
   },
   "source": [
    "#### References\n",
    "\n",
    "* https://github.com/forresti/SqueezeNet\n",
    "* https://onnx.ai/\n",
    "* https://pytorch.org/docs/stable/index.html\n",
    "* https://lankas.github.io/15-618Project/\n",
    "* https://github.com/dgschwend/zynqnet"
   ]
  }
 ],
 "metadata": {
  "kernelspec": {
   "display_name": "Python 3 (ipykernel)",
   "language": "python",
   "name": "python3"
  },
  "language_info": {
   "codemirror_mode": {
    "name": "ipython",
    "version": 3
   },
   "file_extension": ".py",
   "mimetype": "text/x-python",
   "name": "python",
   "nbconvert_exporter": "python",
   "pygments_lexer": "ipython3",
   "version": "3.8.0"
  }
 },
 "nbformat": 4,
 "nbformat_minor": 5
}