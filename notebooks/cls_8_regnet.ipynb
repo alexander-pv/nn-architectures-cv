{
 "cells": [
  {
   "cell_type": "markdown",
   "id": "b9f124de",
   "metadata": {
    "pycharm": {
     "name": "#%% md\n"
    }
   },
   "source": [
    "### RegNet\n",
    "\n",
    "### Designing Network Design Spaces (Ilija Radosavovic et al., 2020, (FAIR))\n",
    "\n",
    "[Paper](https://arxiv.org/abs/2003.13678)"
   ]
  },
  {
   "cell_type": "code",
   "execution_count": 1,
   "id": "834caf54",
   "metadata": {
    "pycharm": {
     "name": "#%%\n"
    }
   },
   "outputs": [
    {
     "data": {
      "text/html": [
       "        <script type=\"text/javascript\">\n",
       "        window.PlotlyConfig = {MathJaxConfig: 'local'};\n",
       "        if (window.MathJax) {MathJax.Hub.Config({SVG: {font: \"STIX-Web\"}});}\n",
       "        if (typeof require !== 'undefined') {\n",
       "        require.undef(\"plotly\");\n",
       "        requirejs.config({\n",
       "            paths: {\n",
       "                'plotly': ['https://cdn.plot.ly/plotly-2.9.0.min']\n",
       "            }\n",
       "        });\n",
       "        require(['plotly'], function(Plotly) {\n",
       "            window._Plotly = Plotly;\n",
       "        });\n",
       "        }\n",
       "        </script>\n",
       "        "
      ]
     },
     "metadata": {},
     "output_type": "display_data"
    }
   ],
   "source": [
    "import os\n",
    "import numpy as np\n",
    "import torch\n",
    "import torch.nn as nn\n",
    "from torch.utils.data import DataLoader\n",
    "import torchvision\n",
    "from torchvision import datasets, transforms\n",
    "\n",
    "from ignite.engine import Events, create_supervised_trainer, create_supervised_evaluator\n",
    "from ignite.metrics import Fbeta, Loss, RunningAverage\n",
    "from ignite.handlers import ModelCheckpoint\n",
    "from ignite.contrib.handlers.tqdm_logger import ProgressBar\n",
    "\n",
    "import matplotlib.pyplot as plt\n",
    "import plotly.offline as offline\n",
    "offline.init_notebook_mode(connected=True)\n",
    "\n",
    "assert torch.cuda.is_available() is True\n",
    "%load_ext watermark"
   ]
  },
  {
   "cell_type": "markdown",
   "id": "6e5bd32d",
   "metadata": {
    "pycharm": {
     "name": "#%% md\n"
    }
   },
   "source": [
    "* Concepts evolution:"
   ]
  },
  {
   "cell_type": "markdown",
   "id": "692ff426",
   "metadata": {
    "pycharm": {
     "name": "#%% md\n"
    }
   },
   "source": [
    "\n",
    "<img src=\"../assets/1_regnet.png\" width=\"850\">"
   ]
  },
  {
   "cell_type": "markdown",
   "id": "37952bf8",
   "metadata": {
    "pycharm": {
     "name": "#%% md\n"
    }
   },
   "source": [
    "* The article suggest new network design paradigm that combines the advantages of manual design and NAS.\n",
    "\n",
    "\n",
    "* Despite the effectiveness of NAS, the paradigm has limitations. The outcome of the search is a single network instance tuned to a specific setting (e.g., hardware platform).\n",
    "\n",
    "\n",
    "* Moving from NAS: sampling models from a design space, giving rise to a model distribution, and turn to tools from classical statistics to analyze the design space. This differs from architecture search, where the goal is to find the single best model from the space.\n",
    "\n",
    "\n",
    "* How to assess models spaces: sampling a set of models from that design space and characterizing the resulting model error distribution. The key intuition behind this approach is that comparing distributions is more robust and informative than using search (manual or automated) and comparing the best found models from two design spaces. \n",
    "\n",
    "\n",
    "* Key features:\n",
    "\n",
    "    * Generate distributions of models obtained by sampling and training n models from a design space.\n",
    "    * Regime: low-compute, low-epoch: 400MF(million flops), 10 epochs,  ImageNet dataset.\n",
    "    * Compute and plot error EDFs (empirical distribution functions) to summarize design space quality:\n",
    "    \n",
    "$$F(e) = \\frac{1}{n}\\sum_{i=1}^n\\mathbb{1}[e_i \\le e],$$\n",
    "\n",
    "$F(e)-$ the fraction of models with error less than $e$.\n",
    "\n",
    "* \n",
    "\n",
    "   * Visualize various properties of a design space and use an empirical bootstrap to gain insight.\n",
    "   * Use gained insights to refine the design space.\n",
    "    \n",
    "\n",
    "\n",
    "\n",
    "\n",
    "\n",
    "\n",
    "\n"
   ]
  },
  {
   "cell_type": "markdown",
   "id": "503dbc1f",
   "metadata": {
    "pycharm": {
     "name": "#%% md\n"
    }
   },
   "source": [
    "* AnyNet (stem + network body + network head) -> RegNet models space\n",
    "* RegNets: RegNetX, RegnetY (RegNetX + Squeeze-and-Excitation operation)"
   ]
  },
  {
   "cell_type": "markdown",
   "id": "110e1109",
   "metadata": {
    "pycharm": {
     "name": "#%% md\n"
    }
   },
   "source": [
    "#### Squeeze-and-Excitation block\n",
    "\n",
    "\n",
    "With the squeeze-and-excitation block, the neural nets are better able to map the channel dependency along with access to global information. Therefore, they are better able to recalibrate the filter outputs and thus, this leads to performance gains."
   ]
  },
  {
   "cell_type": "code",
   "execution_count": 2,
   "id": "27cde93d",
   "metadata": {
    "pycharm": {
     "name": "#%%\n"
    }
   },
   "outputs": [],
   "source": [
    "class SqExBlock(nn.Module):\n",
    "    def __init__(self, c: int, r: int = 16):\n",
    "        super(SqExBlock, self).__init__()\n",
    "        self.squeeze = nn.AdaptiveAvgPool2d(1)\n",
    "        self.excitation = nn.Sequential(\n",
    "            nn.Linear(c, c // r, bias=False),\n",
    "            nn.ReLU(inplace=True), # Main nonlinearity\n",
    "            nn.Linear(c // r, c, bias=False),\n",
    "            nn.Sigmoid()           # Smoothing values\n",
    "        )\n",
    "\n",
    "    def forward(self, x):\n",
    "        # Basically, in torch we have (b, c, w, h) dims order\n",
    "        bs, c, _, _ = x.shape\n",
    "        y = self.squeeze(x).view(bs, c)\n",
    "        y = self.excitation(y).view(bs, c, 1, 1)\n",
    "        # Weighting\n",
    "        z = x * y.expand_as(x)\n",
    "        return z"
   ]
  },
  {
   "cell_type": "markdown",
   "id": "7ed1486b",
   "metadata": {
    "pycharm": {
     "name": "#%% md\n"
    }
   },
   "source": [
    "#### Torch [implementation](https://github.com/pytorch/vision/blob/93104c1697384273a75381d57be2f872265eeefb/torchvision/models/regnet.py#L296)"
   ]
  },
  {
   "cell_type": "code",
   "execution_count": 3,
   "id": "074d9fed",
   "metadata": {
    "pycharm": {
     "name": "#%%\n"
    }
   },
   "outputs": [
    {
     "data": {
      "text/plain": [
       "['regnet',\n",
       " 'regnet_x_16gf',\n",
       " 'regnet_x_1_6gf',\n",
       " 'regnet_x_32gf',\n",
       " 'regnet_x_3_2gf',\n",
       " 'regnet_x_400mf',\n",
       " 'regnet_x_800mf',\n",
       " 'regnet_x_8gf',\n",
       " 'regnet_y_16gf',\n",
       " 'regnet_y_1_6gf',\n",
       " 'regnet_y_32gf',\n",
       " 'regnet_y_3_2gf',\n",
       " 'regnet_y_400mf',\n",
       " 'regnet_y_800mf',\n",
       " 'regnet_y_8gf']"
      ]
     },
     "execution_count": 3,
     "metadata": {},
     "output_type": "execute_result"
    }
   ],
   "source": [
    "[x for x in dir(torchvision.models) if 'regnet' in x]"
   ]
  },
  {
   "cell_type": "code",
   "execution_count": 4,
   "id": "2cf0a692",
   "metadata": {
    "pycharm": {
     "name": "#%%\n"
    },
    "scrolled": true
   },
   "outputs": [],
   "source": [
    "regnet_y = torchvision.models.regnet_y_400mf(pretrained=True, progress=False)"
   ]
  },
  {
   "cell_type": "markdown",
   "id": "65f47c6b",
   "metadata": {
    "pycharm": {
     "name": "#%% md\n"
    }
   },
   "source": [
    "#### CIFAR10 with pytorch ignite"
   ]
  },
  {
   "cell_type": "code",
   "execution_count": 5,
   "id": "01053f0c",
   "metadata": {
    "pycharm": {
     "name": "#%%\n"
    }
   },
   "outputs": [
    {
     "name": "stdout",
     "output_type": "stream",
     "text": [
      "Files already downloaded and verified\n",
      "Files already downloaded and verified\n"
     ]
    }
   ],
   "source": [
    "imagenet_norm = {'mean':(0.485, 0.456, 0.406), 'std': (0.229, 0.224, 0.225)}\n",
    "val_start = 45000\n",
    "batch_size = 128\n",
    "store_data = './data'\n",
    "device = 'cuda:0'\n",
    "\n",
    "transform = transforms.Compose([transforms.ToTensor(),\n",
    "                                transforms.Normalize(**imagenet_norm)])\n",
    "\n",
    "trainset = datasets.CIFAR10(store_data, download=True, train=True, transform=transform)\n",
    "trainset.targets = trainset.targets[:val_start]\n",
    "trainset.data = trainset.data[:val_start]\n",
    "\n",
    "valset = datasets.CIFAR10(store_data, download=False, train=True, transform=transform)\n",
    "valset.targets = valset.targets[val_start:]\n",
    "valset.data = valset.data[val_start:]\n",
    "\n",
    "testset = datasets.CIFAR10(store_data, download=True, train=False, transform=transform)\n",
    "\n",
    "\n",
    "train_loader = DataLoader(trainset, batch_size=batch_size, shuffle=True)\n",
    "val_loader = DataLoader(valset, batch_size=batch_size)\n",
    "test_loader = DataLoader(testset, batch_size=batch_size)"
   ]
  },
  {
   "cell_type": "code",
   "execution_count": 6,
   "id": "bb5cd2c4",
   "metadata": {
    "pycharm": {
     "name": "#%%\n"
    }
   },
   "outputs": [
    {
     "data": {
      "image/png": "[encoded data removed]",
      "text/plain": [
       "<Figure size 432x288 with 5 Axes>"
      ]
     },
     "metadata": {
      "needs_background": "light"
     },
     "output_type": "display_data"
    }
   ],
   "source": [
    "n_imgs = 5\n",
    "fig, axs = plt.subplots(1, n_imgs)\n",
    "for i, idx in enumerate(np.random.randint(size=n_imgs, low=0, high=trainset.data.shape[0]-1)):\n",
    "    axs[i].imshow(trainset.data[idx])\n",
    "    axs[i].axis('off')\n",
    "    axs[i].set_title(trainset.classes[trainset.targets[idx]])\n",
    "plt.show()"
   ]
  },
  {
   "cell_type": "code",
   "execution_count": 7,
   "id": "ab0288c3",
   "metadata": {
    "pycharm": {
     "name": "#%%\n"
    }
   },
   "outputs": [
    {
     "data": {
      "text/plain": [
       "(45000, 5000, 10000)"
      ]
     },
     "execution_count": 7,
     "metadata": {},
     "output_type": "execute_result"
    }
   ],
   "source": [
    "(len(trainset.targets), len(valset.targets), len(testset.targets))"
   ]
  },
  {
   "cell_type": "code",
   "execution_count": 8,
   "id": "fb611c6c",
   "metadata": {
    "pycharm": {
     "name": "#%%\n"
    }
   },
   "outputs": [
    {
     "data": {
      "text/plain": [
       "((45000, 32, 32, 3), (5000, 32, 32, 3), (10000, 32, 32, 3))"
      ]
     },
     "execution_count": 8,
     "metadata": {},
     "output_type": "execute_result"
    }
   ],
   "source": [
    "(trainset.data.shape, valset.data.shape, testset.data.shape)"
   ]
  },
  {
   "cell_type": "code",
   "execution_count": 9,
   "id": "4da0d7a6",
   "metadata": {
    "pycharm": {
     "name": "#%%\n"
    }
   },
   "outputs": [
    {
     "data": {
      "text/plain": [
       "['airplane',\n",
       " 'automobile',\n",
       " 'bird',\n",
       " 'cat',\n",
       " 'deer',\n",
       " 'dog',\n",
       " 'frog',\n",
       " 'horse',\n",
       " 'ship',\n",
       " 'truck']"
      ]
     },
     "execution_count": 9,
     "metadata": {},
     "output_type": "execute_result"
    }
   ],
   "source": [
    "trainset.classes"
   ]
  },
  {
   "cell_type": "code",
   "execution_count": 10,
   "id": "63485b87",
   "metadata": {
    "pycharm": {
     "name": "#%%\n"
    }
   },
   "outputs": [],
   "source": [
    "regnet_y.fc = nn.Linear(in_features=regnet_y.fc.in_features, out_features=len(trainset.classes))\n",
    "regnet_y.to('cuda')\n",
    "\n",
    "optimizer = torch.optim.Adam(regnet_y.parameters(), lr=0.001)\n",
    "criterion = nn.CrossEntropyLoss()"
   ]
  },
  {
   "cell_type": "code",
   "execution_count": 11,
   "id": "6ea371ba",
   "metadata": {
    "pycharm": {
     "name": "#%%\n"
    }
   },
   "outputs": [],
   "source": [
    "epochs = 5\n",
    "trainer = create_supervised_trainer(regnet_y, optimizer, criterion, device=device)\n",
    "metrics = {\n",
    "    'f1': Fbeta(beta=1),\n",
    "    'ce':Loss(criterion),\n",
    "}\n",
    "train_evaluator = create_supervised_evaluator(regnet_y, metrics=metrics, device=device)\n",
    "val_evaluator = create_supervised_evaluator(regnet_y, metrics=metrics, device=device)\n",
    "\n",
    "training_history = {'loss':[], 'f1': []}\n",
    "validation_history = {'loss':[], 'f1': []}\n",
    "last_epoch = []\n",
    "\n",
    "RunningAverage(output_transform=lambda x: x).attach(trainer, 'loss')"
   ]
  },
  {
   "cell_type": "code",
   "execution_count": 12,
   "id": "6901e5c8",
   "metadata": {
    "pycharm": {
     "name": "#%%\n"
    }
   },
   "outputs": [],
   "source": [
    "@trainer.on(Events.EPOCH_COMPLETED)\n",
    "def log_training_results(trainer):\n",
    "    train_evaluator.run(train_loader)\n",
    "    metrics = train_evaluator.state.metrics\n",
    "    f1 = metrics['f1']\n",
    "    loss = metrics['ce']\n",
    "    last_epoch.append(0)\n",
    "    training_history['f1'].append(f1)\n",
    "    training_history['loss'].append(loss)\n",
    "    print(\"Training Results - Epoch: {}  Avg F1: {:.2f} Avg loss: {:.2f}\"\n",
    "          .format(trainer.state.epoch, f1, loss))\n",
    "\n",
    "@trainer.on(Events.EPOCH_COMPLETED)\n",
    "def log_validation_results(trainer):\n",
    "    val_evaluator.run(val_loader)\n",
    "    metrics = val_evaluator.state.metrics\n",
    "    f1 = metrics['f1']\n",
    "    loss = metrics['ce']\n",
    "    validation_history['f1'].append(f1)\n",
    "    validation_history['loss'].append(loss)\n",
    "    print(\"Validation Results - Epoch: {}  Avg F1: {:.2f} Avg loss: {:.2f}\"\n",
    "          .format(trainer.state.epoch, f1, loss))"
   ]
  },
  {
   "cell_type": "code",
   "execution_count": 13,
   "id": "9a312a8c",
   "metadata": {
    "pycharm": {
     "name": "#%%\n"
    }
   },
   "outputs": [],
   "source": [
    "get_last_val_score = lambda x: validation_history['f1'][-1]\n",
    "get_last_epoch = lambda eng, last_state: eng.state.epoch\n",
    "checkpointer = ModelCheckpoint('./saved_models', 'regnety', \n",
    "                               global_step_transform=get_last_epoch,\n",
    "                               score_function=get_last_val_score,\n",
    "                               create_dir=True, \n",
    "                               require_empty=False)\n",
    "trainer.add_event_handler(Events.EPOCH_COMPLETED, checkpointer, {'cifar10': regnet_y})\n",
    "\n",
    "ignite_pbar = ProgressBar()\n",
    "ignite_pbar.attach(trainer)"
   ]
  },
  {
   "cell_type": "code",
   "execution_count": null,
   "id": "552df238",
   "metadata": {
    "pycharm": {
     "name": "#%%\n"
    }
   },
   "outputs": [],
   "source": [
    "trainer.run(train_loader, max_epochs=epochs)"
   ]
  },
  {
   "cell_type": "code",
   "execution_count": 14,
   "id": "ea47f79a",
   "metadata": {
    "pycharm": {
     "name": "#%%\n"
    }
   },
   "outputs": [
    {
     "data": {
      "text/plain": [
       "<All keys matched successfully>"
      ]
     },
     "execution_count": 14,
     "metadata": {},
     "output_type": "execute_result"
    }
   ],
   "source": [
    "def fetch_last_checkpoint(model_save_path, name):\n",
    "    checkpoint_files = (x for x in os.listdir(model_save_path) if name in x)\n",
    "    checkpoint_files = [f for f in checkpoint_files if '.pt' in f]\n",
    "    checkpoint_iter = [\n",
    "        int(x.split('_')[2].split('.')[0])\n",
    "        for x in checkpoint_files]\n",
    "    last_idx = np.array(checkpoint_iter).argmax()\n",
    "    return os.path.join(model_save_path, checkpoint_files[last_idx])\n",
    "\n",
    "regnet_y.load_state_dict(torch.load(fetch_last_checkpoint('./saved_models', 'regnety_cifar10')))"
   ]
  },
  {
   "cell_type": "code",
   "execution_count": 15,
   "id": "e3d22ba2",
   "metadata": {
    "pycharm": {
     "name": "#%%\n"
    }
   },
   "outputs": [
    {
     "data": {
      "application/vnd.jupyter.widget-view+json": {
       "model_id": "",
       "version_major": 2,
       "version_minor": 0
      },
      "text/plain": [
       "[1/79]   1%|1          [00:00<?]"
      ]
     },
     "metadata": {},
     "output_type": "display_data"
    },
    {
     "data": {
      "text/plain": [
       "{'f1': 0.8108778604226827, 'ce': 0.6002994140625}"
      ]
     },
     "execution_count": 15,
     "metadata": {},
     "output_type": "execute_result"
    }
   ],
   "source": [
    "test_evaluator = create_supervised_evaluator(regnet_y, metrics=metrics, device=device)\n",
    "regnet_y.eval()\n",
    "ProgressBar().attach(test_evaluator)\n",
    "test_evaluator.run(test_loader)\n",
    "test_evaluator.state.metrics"
   ]
  },
  {
   "cell_type": "markdown",
   "id": "831e18d2",
   "metadata": {
    "pycharm": {
     "name": "#%% md\n"
    }
   },
   "source": [
    "#### References\n",
    "\n",
    "* https://onnx.ai/\n",
    "* https://pytorch.org/docs/stable/index.html\n",
    "* https://github.com/facebookresearch/pycls\n",
    "* https://amaarora.github.io/2020/07/24/SeNet.html"
   ]
  }
 ],
 "metadata": {
  "kernelspec": {
   "display_name": "Python 3 (ipykernel)",
   "language": "python",
   "name": "python3"
  },
  "language_info": {
   "codemirror_mode": {
    "name": "ipython",
    "version": 3
   },
   "file_extension": ".py",
   "mimetype": "text/x-python",
   "name": "python",
   "nbconvert_exporter": "python",
   "pygments_lexer": "ipython3",
   "version": "3.8.0"
  }
 },
 "nbformat": 4,
 "nbformat_minor": 5
}
